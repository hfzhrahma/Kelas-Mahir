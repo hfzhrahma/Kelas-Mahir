{
  "nbformat": 4,
  "nbformat_minor": 0,
  "metadata": {
    "colab": {
      "name": "Untitled4.ipynb",
      "provenance": [],
      "collapsed_sections": []
    },
    "kernelspec": {
      "name": "python3",
      "display_name": "Python 3"
    },
    "language_info": {
      "name": "python"
    }
  },
  "cells": [
    {
      "cell_type": "markdown",
      "metadata": {
        "id": "1G0Pzz79tmYS"
      },
      "source": [
        "##Pembuka\n",
        "\n",
        "Bismillahirrahmanirrahim\n",
        "\n",
        "Assalamu'alaikum warahmatullahi wabarakatuh\n",
        "\n",
        "Puji syukur kehadirat Allah Subhana Wata'ala atas limpahan Rahmat dan Hidayah-Nya kepada kita semua. Sholawat serta salam senantiasa tercurah limpahkan kepada baginda Muhammad Rasulullah Salallahualaihiwassalam.\n",
        "\n",
        "Halo para **Pejuang Data**. Selamat berjumpa di pertemuan pertama Program Training **Algoritma Machine Learning** Kelas Mahir.\n",
        "\n",
        "Pada petemuan ini kamu akan belajar:\n",
        "\n",
        "1.   Fungsi pada Python\n",
        "2.   Keyword dan Argument\n",
        "3.   Membuat Fungsi pada Python\n",
        "4.   Argument Default\n",
        "5.   Contoh User Defined Function\n",
        "6.   Latihan\n",
        "\n"
      ]
    },
    {
      "cell_type": "markdown",
      "metadata": {
        "id": "04sHs14avM5P"
      },
      "source": [
        "##Function\n",
        "\n",
        "Function adalah sebuah blok statement yang hanya akan dijalankan saat ia dipanggil."
      ]
    },
    {
      "cell_type": "code",
      "metadata": {
        "colab": {
          "base_uri": "https://localhost:8080/"
        },
        "id": "a5_WfOjqtfO0",
        "outputId": "0d422115-5890-4e5f-d552-b4d51852a997"
      },
      "source": [
        "ganjil = [1,3,5,7,9]\n",
        "len(ganjil)"
      ],
      "execution_count": null,
      "outputs": [
        {
          "output_type": "execute_result",
          "data": {
            "text/plain": [
              "5"
            ]
          },
          "metadata": {},
          "execution_count": 2
        }
      ]
    },
    {
      "cell_type": "code",
      "metadata": {
        "colab": {
          "base_uri": "https://localhost:8080/"
        },
        "id": "F3q52zj5xA6v",
        "outputId": "93b4ad06-b06d-4c2b-9e7c-7e8b890cd8e2"
      },
      "source": [
        "print(\"Assalamu'alaikum Dunia\")"
      ],
      "execution_count": null,
      "outputs": [
        {
          "output_type": "stream",
          "name": "stdout",
          "text": [
            "Assalamu'alaikum Dunia\n"
          ]
        }
      ]
    },
    {
      "cell_type": "markdown",
      "metadata": {
        "id": "mn01nM7ExRRu"
      },
      "source": [
        "##Keyword dan Argument\n",
        "\n",
        "**Keyword/Parameter** : Variabel yang digunakan dalam deklarasi fungsi\n",
        "\n",
        "**Argument** : Nilai yang diberikan saat pemanggilan fungsi"
      ]
    },
    {
      "cell_type": "code",
      "metadata": {
        "colab": {
          "base_uri": "https://localhost:8080/"
        },
        "id": "QIFFVPvrx8Ck",
        "outputId": "66ba92b7-dd31-4510-e34e-67f16d7e5ee2"
      },
      "source": [
        "# sep = keyword/argument\n",
        "# '-' = argument\n",
        "\n",
        "print('kata1', 'kata2', sep='/')"
      ],
      "execution_count": null,
      "outputs": [
        {
          "output_type": "stream",
          "name": "stdout",
          "text": [
            "kata1/kata2\n"
          ]
        }
      ]
    },
    {
      "cell_type": "markdown",
      "metadata": {
        "id": "xePPMxHgyJ1D"
      },
      "source": [
        "##Membuat Fungsi\n",
        "\n",
        "Python mengizinkan untuk mendeklarasikan fungsi dalam kode yang dituliskan yang dikenal dengan **user defined function**"
      ]
    },
    {
      "cell_type": "markdown",
      "metadata": {
        "id": "NQOh8alMzdnw"
      },
      "source": [
        "![Screenshot (41).png](data:image/png;base64,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)"
      ]
    },
    {
      "cell_type": "code",
      "metadata": {
        "id": "TyGjnu1GzPIJ"
      },
      "source": [
        "# Pendefinisian fungsi_kuadrat\n",
        "def fungsi_kuadrat(x):\n",
        "  hasil = x**2\n",
        "  return hasil"
      ],
      "execution_count": null,
      "outputs": []
    },
    {
      "cell_type": "code",
      "metadata": {
        "id": "xtZjHhw2JV5P"
      },
      "source": [
        "# Alternatif pendefinisian fungsi_kuadrat\n",
        "def fungsi_kuadrat(x):\n",
        "  return x**2"
      ],
      "execution_count": null,
      "outputs": []
    },
    {
      "cell_type": "code",
      "metadata": {
        "colab": {
          "base_uri": "https://localhost:8080/"
        },
        "id": "IQCGYDDsJehm",
        "outputId": "b3315d49-d2db-43d1-ab8b-af374d32d7cb"
      },
      "source": [
        "# Pemanggilan fungsi_kuadrat\n",
        "fungsi_kuadrat(7)"
      ],
      "execution_count": null,
      "outputs": [
        {
          "output_type": "execute_result",
          "data": {
            "text/plain": [
              "49"
            ]
          },
          "metadata": {},
          "execution_count": 9
        }
      ]
    },
    {
      "cell_type": "markdown",
      "metadata": {
        "id": "EWkQS7TiJuE_"
      },
      "source": [
        "##Positional Argument dan Keyword\n",
        "\n",
        "Kita bisa menyatakan argumen sebagai posilition argument atau keyword. Beberapa manfaat argumen kata kunci dapat berupa:\n",
        "\n",
        "\n",
        "\n",
        "*   Kita dapat menyebut argumen dengan nama mereka untuk memperjelas apa yang mereka wakili\n",
        "*   Kita dapat mengatur ulang argumen dengan cara yang membuatnya paling mudah dibaca\n",
        "\n"
      ]
    },
    {
      "cell_type": "code",
      "metadata": {
        "id": "vAZowpn9LChp"
      },
      "source": [
        "# Mendefinisikan fungsi dengan beberapa argumen\n",
        "def tampilkan_kata(a, b, c):\n",
        "  print(a, b, c)"
      ],
      "execution_count": null,
      "outputs": []
    },
    {
      "cell_type": "code",
      "metadata": {
        "colab": {
          "base_uri": "https://localhost:8080/"
        },
        "id": "jj4oJn9ILXSh",
        "outputId": "5fe8a95d-b348-4b08-b301-c86dfad2ccce"
      },
      "source": [
        "#Positional Argument\n",
        "tampilkan_kata('aku', 'kamu', 'dia')"
      ],
      "execution_count": null,
      "outputs": [
        {
          "output_type": "stream",
          "name": "stdout",
          "text": [
            "aku kamu dia\n"
          ]
        }
      ]
    },
    {
      "cell_type": "code",
      "metadata": {
        "colab": {
          "base_uri": "https://localhost:8080/"
        },
        "id": "T58gMRxzMbeo",
        "outputId": "98b7e222-fdfe-48a4-f5d4-2b7c25ccd323"
      },
      "source": [
        "tampilkan_kata('kamu', 'aku', 'dia')"
      ],
      "execution_count": null,
      "outputs": [
        {
          "output_type": "stream",
          "name": "stdout",
          "text": [
            "kamu aku dia\n"
          ]
        }
      ]
    },
    {
      "cell_type": "code",
      "metadata": {
        "colab": {
          "base_uri": "https://localhost:8080/"
        },
        "id": "xeAOP79rM0sb",
        "outputId": "c31df6a6-a724-4dbd-ac57-905f96e6baa1"
      },
      "source": [
        "# Argumen berdasarkan keywordnya\n",
        "tampilkan_kata(a='aku', b='kamu', c='dia')\n",
        "tampilkan_kata(c='dia', a='aku', b='kamu')"
      ],
      "execution_count": null,
      "outputs": [
        {
          "output_type": "stream",
          "name": "stdout",
          "text": [
            "aku kamu dia\n",
            "aku kamu dia\n"
          ]
        }
      ]
    },
    {
      "cell_type": "markdown",
      "metadata": {
        "id": "2aYMrsZWNHCA"
      },
      "source": [
        "Catatan : Jika sudah diberi kunci maka urutan tidak menjadi penting"
      ]
    },
    {
      "cell_type": "code",
      "metadata": {
        "colab": {
          "base_uri": "https://localhost:8080/"
        },
        "id": "hXXJ51G9NOHj",
        "outputId": "98cfb23b-ec3a-4659-ee51-f471fa9e1fb8"
      },
      "source": [
        "# Campuran antara argumen posisi dan argumen kata kunci\n",
        "tampilkan_kata('aku', b='kamu', c='dia')"
      ],
      "execution_count": null,
      "outputs": [
        {
          "output_type": "stream",
          "name": "stdout",
          "text": [
            "aku kamu dia\n"
          ]
        }
      ]
    },
    {
      "cell_type": "markdown",
      "metadata": {
        "id": "q5r6_n0qNZlC"
      },
      "source": [
        "**Ini tidak diizinkan**\n",
        "\n",
        "\n",
        "*   Positional argumen setelah keyword argument\n",
        "\n",
        "![Screenshot (43).png](data:image/png;base64,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)\n",
        "\n",
        "*   Terdapat dua nilai untuk satu keyword argument yang sama\n",
        "\n",
        "![Screenshot (42).png](data:image/png;base64,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)"
      ]
    },
    {
      "cell_type": "markdown",
      "metadata": {
        "id": "7zGjsS5DO8iZ"
      },
      "source": [
        "##Argument Default\n",
        "Fungsi dapat memiliki argumen default dengan nilai yang telah ditentukan sebelumnya. Argumen ini dapat ditinggalkan dan nilai default kemudian diteruskan ke fungsi, atau argumen dapat dirubah dengan nilai yang berbeda. Perhatikan bahwa argumen default harus ditentukan sebagai **parameter terakhir** dalam suatu fungsi"
      ]
    },
    {
      "cell_type": "code",
      "metadata": {
        "colab": {
          "base_uri": "https://localhost:8080/"
        },
        "id": "HrAnDw-zSbPx",
        "outputId": "1447c538-fe66-49b8-9422-14457d8a2987"
      },
      "source": [
        "#Argument Default\n",
        "def tampilkan_kata(a, b, c, d='sahabat'):\n",
        "  print(a, b, c, d)\n",
        "\n",
        "tampilkan_kata('aku', 'kamu', 'dia')\n",
        "tampilkan_kata('aku', b='kamu', c='dia', d='teman')"
      ],
      "execution_count": null,
      "outputs": [
        {
          "output_type": "stream",
          "name": "stdout",
          "text": [
            "aku kamu dia sahabat\n",
            "aku kamu dia teman\n"
          ]
        }
      ]
    },
    {
      "cell_type": "markdown",
      "metadata": {
        "id": "UWB2B9E-O8X_"
      },
      "source": [
        "Catatan : Argument default harus diletakkkan terakhir"
      ]
    },
    {
      "cell_type": "markdown",
      "metadata": {
        "id": "2kvCTuueTrkD"
      },
      "source": [
        "##Contoh User defined Function\n",
        "\n",
        "**Contoh 1**\n",
        "\n",
        "Penjumlahan 2 bilangan"
      ]
    },
    {
      "cell_type": "code",
      "metadata": {
        "colab": {
          "base_uri": "https://localhost:8080/"
        },
        "id": "ho0I3gdvT1nS",
        "outputId": "23e85bdf-1a34-4ef3-f567-0b0f951b39da"
      },
      "source": [
        "def pejumlahan(x,y):    #input\n",
        "  a=x+y                 #proses\n",
        "  return a              #output\n",
        "\n",
        "pejumlahan(2,4)        #pemanggilan fungsi"
      ],
      "execution_count": null,
      "outputs": [
        {
          "output_type": "execute_result",
          "data": {
            "text/plain": [
              "6"
            ]
          },
          "metadata": {},
          "execution_count": 17
        }
      ]
    },
    {
      "cell_type": "markdown",
      "metadata": {
        "id": "0jTjC2SSULgB"
      },
      "source": [
        "**Contoh 2:**\n",
        "\n",
        "Penjumlahan yang memungkinkan untuk 3 bilangan"
      ]
    },
    {
      "cell_type": "code",
      "metadata": {
        "colab": {
          "base_uri": "https://localhost:8080/"
        },
        "id": "kAJH_3PgUR2J",
        "outputId": "2afed065-4588-4e51-c9ad-028265f4d61d"
      },
      "source": [
        "def penjumlahan(x, y, z=None):\n",
        "  if (z==None):\n",
        "    return x+y\n",
        "  else:\n",
        "    return x+y+z\n",
        "\n",
        "print(penjumlahan(1,2))\n",
        "print(penjumlahan(1, 2, 3))"
      ],
      "execution_count": null,
      "outputs": [
        {
          "output_type": "stream",
          "name": "stdout",
          "text": [
            "3\n",
            "6\n"
          ]
        }
      ]
    },
    {
      "cell_type": "markdown",
      "metadata": {
        "id": "WItm7Z0hUrlK"
      },
      "source": [
        "**Contoh 3:**\n",
        "\n",
        "Menghitung luas dan keliling persegi"
      ]
    },
    {
      "cell_type": "code",
      "metadata": {
        "colab": {
          "base_uri": "https://localhost:8080/"
        },
        "id": "GT-D486NVJnh",
        "outputId": "0c26e3da-c415-4661-bdb6-5326e1ddd90d"
      },
      "source": [
        "def luas_dan_keliling_persegi(s):\n",
        "  luas = s**2\n",
        "  keliling = 4*s\n",
        "  return luas, keliling\n",
        "\n",
        "luas, keliling = luas_dan_keliling_persegi(3)\n",
        "print('Luas:', luas)\n",
        "print('Keliling:', keliling)"
      ],
      "execution_count": null,
      "outputs": [
        {
          "output_type": "stream",
          "name": "stdout",
          "text": [
            "Luas: 9\n",
            "Keliling: 12\n"
          ]
        }
      ]
    },
    {
      "cell_type": "markdown",
      "metadata": {
        "id": "uBRbUUsYZG9b"
      },
      "source": [
        "##Latihan\n",
        "1.   Buatlah sebuah fungsi untuk menghitung luas dan keliling lingkaran dengan input jari-jari"
      ]
    },
    {
      "cell_type": "code",
      "metadata": {
        "colab": {
          "base_uri": "https://localhost:8080/"
        },
        "id": "v5N9GE-aZhaw",
        "outputId": "68073441-3d05-49cd-9df8-ef1c50e92d4f"
      },
      "source": [
        "import math\n",
        "def luas_dan_keliling_lingkaran(r):\n",
        "  luas = math.pi*r*r\n",
        "  keliling = 2*math.pi*r\n",
        "  return luas, keliling\n",
        "\n",
        "luas, keliling = luas_dan_keliling_lingkaran(100)\n",
        "print('Luas Lingkaran \\t :', format(luas, '.2f'))\n",
        "print('Keliling Lingkaran \\t :',format(keliling, '.2f'))\n"
      ],
      "execution_count": null,
      "outputs": [
        {
          "output_type": "stream",
          "name": "stdout",
          "text": [
            "Luas Lingkaran \t : 31415.93\n",
            "Keliling Lingkaran \t : 628.32\n"
          ]
        }
      ]
    },
    {
      "cell_type": "markdown",
      "metadata": {
        "id": "JqQyQsG-d6gz"
      },
      "source": [
        "2.   Buatlah sebuah fungsi untuk menggabungkan dua kata dalam bentuk srting bebas menjadi satu kata tanpa spasi dengan huruf kecil\n",
        "\n",
        "Contoh:\n",
        "\n",
        "gabung_kata('TANGKUBAN', 'PeRaHu')\n",
        "\n",
        "Output:\n",
        "\n",
        "'''python 'tangkubanperahu'"
      ]
    },
    {
      "cell_type": "code",
      "metadata": {
        "colab": {
          "base_uri": "https://localhost:8080/"
        },
        "id": "Wg-JdTybevx3",
        "outputId": "1fe50e0e-5914-468b-f6c0-fd9f974618d4"
      },
      "source": [
        "def gabung_kata(a, b):\n",
        "  a_baru = a.lower()\n",
        "  b_baru = b.lower()\n",
        "  return a_baru, b_baru\n",
        "\n",
        "a_baru, b_baru = gabung_kata('TANGKUBAN', 'PeRaHu')\n",
        "print(a_baru + b_baru)"
      ],
      "execution_count": null,
      "outputs": [
        {
          "output_type": "stream",
          "name": "stdout",
          "text": [
            "tangkubanperahu\n"
          ]
        }
      ]
    },
    {
      "cell_type": "markdown",
      "metadata": {
        "id": "D9PFZtoxdzBW"
      },
      "source": [
        "3.   Buatlah sebuah fungsi *awal_akhir(list_input)* untuk menukar elemen pertama pada sebuah list dengan element terakhir pada list yang sama!\n",
        "\n",
        "Contoh:\n",
        "\n",
        "*awal_akhir([1,2,3,4])*\n",
        "\n",
        "Output:\n",
        "\n",
        "'''python [4,2,3,1]"
      ]
    },
    {
      "cell_type": "code",
      "metadata": {
        "id": "3i6Eu3jpeXEx",
        "colab": {
          "base_uri": "https://localhost:8080/"
        },
        "outputId": "6714e4dc-0764-4007-fc09-fd12ca4863ff"
      },
      "source": [
        "def awal_akhir(list):\n",
        "  n=len(list)\n",
        "  pos1=0\n",
        "  pos2=n-1\n",
        "  #Swapping\n",
        "  temp=list[pos1]\n",
        "  list[pos1]=list[pos2]\n",
        "  list[pos2]=temp\n",
        "  return list\n",
        "\n",
        "awal_akhir([1,2,3,4])"
      ],
      "execution_count": 4,
      "outputs": [
        {
          "output_type": "execute_result",
          "data": {
            "text/plain": [
              "[4, 2, 3, 1]"
            ]
          },
          "metadata": {},
          "execution_count": 4
        }
      ]
    }
  ]
}