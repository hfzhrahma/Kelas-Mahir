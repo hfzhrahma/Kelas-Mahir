{
  "nbformat": 4,
  "nbformat_minor": 0,
  "metadata": {
    "colab": {
      "name": "Untitled5.ipynb",
      "provenance": [],
      "collapsed_sections": []
    },
    "kernelspec": {
      "name": "python3",
      "display_name": "Python 3"
    },
    "language_info": {
      "name": "python"
    }
  },
  "cells": [
    {
      "cell_type": "markdown",
      "metadata": {
        "id": "pjx-pbvRJ8EZ"
      },
      "source": [
        "##Pembuka\n",
        "\n",
        "Bismillahirrahmanirrahim\n",
        "\n",
        "Assalamu'alaikum warahmatullahi wabarakatuh\n",
        "\n",
        "Puji syukur kehadirat Allah Subhana Wata'ala atas limpahan Rahmat dan Hidayah-Nya kepada kita semua. Sholawat serta salam senantiasa tercurah limpahkan kepada baginda Muhammad Rasulullah Salallahualaihiwassalam.\n",
        "\n",
        "Halo para **Pejuang Data**. Selamat berjumpa di pertemuan pertama Program Training **Algoritma Machine Learning** Kelas Mahir.\n",
        "\n",
        "Pada petemuan ini kamu akan belajar:\n",
        "\n",
        "1.   Lambda pada Pyton\n",
        "2.   Menggunakan Lambda Expression\n",
        "3.   Anonymous Function\n",
        "4.   Eksekusi Lambda Secara Langsung\n",
        "5.   Mengapa harus pakai Lambda?\n",
        "6.   Contoh Pemakaian Fungsi Lambda\n",
        "7.   Latihan\n",
        "\n"
      ]
    },
    {
      "cell_type": "markdown",
      "metadata": {
        "id": "4GRA0cCaKdnT"
      },
      "source": [
        "##Lambda\n",
        "\n",
        "Fungsi lamda adalah fungsi anonim _one line_ yang didefinisikan tanpa nama. Fungsi lambda dapat mengambil sejumlah argumen, tetapi hanya dapat memiliki satu expression. Sementara fungsi normal didefinisikan menggunakan kata kunci _def_, dalam Python fungsi anonim didefinisikan menggunakan kata kunci lambda.\n",
        "\n",
        "Fungsi lambda digunakan ketika fungsi sederhana hanya digunakan sekali atau untuk waktu yang singkat dalam kode kita. Penggunaannya yang paling umum adalah sebagai argumen untuk fungsi tingkat tinggi (fungsi yang menggunakan fungsi lain sebagai argumen).\n",
        "\n",
        "Misalkan kita punya fungsi penjumlahan kuadrat seperti ini:"
      ]
    },
    {
      "cell_type": "code",
      "metadata": {
        "id": "NsEa-I6VJ7rm"
      },
      "source": [
        "def penjumlahan_kuadrat (x,y):\n",
        "  return x**2 + y**2"
      ],
      "execution_count": null,
      "outputs": []
    },
    {
      "cell_type": "markdown",
      "metadata": {
        "id": "9kuf-KuxMDhE"
      },
      "source": [
        "dengan lambda kita tidak perlu menggunakan _def_ dan _return_, bahkan kita juga tidak perlu menuliskan namanya"
      ]
    },
    {
      "cell_type": "code",
      "metadata": {
        "colab": {
          "base_uri": "https://localhost:8080/"
        },
        "id": "bEB8klsvJwnN",
        "outputId": "ee498fec-a9db-405b-b270-1ae2d3b274de"
      },
      "source": [
        "lambda x,y : x**2 + y**2"
      ],
      "execution_count": null,
      "outputs": [
        {
          "output_type": "execute_result",
          "data": {
            "text/plain": [
              "<function __main__.<lambda>>"
            ]
          },
          "metadata": {},
          "execution_count": 1
        }
      ]
    },
    {
      "cell_type": "markdown",
      "metadata": {
        "id": "XWcF-0ULQnKQ"
      },
      "source": [
        "##Menggunakan Lambda Expression\n",
        "\n",
        "Lambda digunakan untuk membuat fungsi dalam satu baris ekspresi. Ini adalah format untuk membuat fungsi lambda:\n",
        "\n",
        "![download.png](data:image/png;base64,iVBORw0KGgoAAAANSUhEUgAAAT0AAACfCAMAAAC85v7+AAAA9lBMVEX////v8vPN1tr3+Pn7/Pzo7O74+frz9fbk6euvvcTb4eQAj/IAjfL78fnq7vD+/P6Pwvh0t/bEztPc4uXRVLmzwMd/u/fU29+puL8AAAAAjvL+68H35vO6xsxGp/Xpst3P5fzwy+jcgsrQT7j7ugDpt96drrf8y1bUYL3inNQvnvSSyPjWa8Hz1u2RpK7d7f3/+u7lp9jfkM/nrdv24fK11PoflvP80nv94KL92pP8z2jaeMf7wjH94q/TXLzOQ7T+8dZaWlruxOX7xDzq9v5uiZeBmKPA3/sAhfFVrPX/9+T82Ij80W/96Lm22fqiz/mbm5v+7sxSqpQuAAAOJElEQVR4nO2dDUPaSBPHJ+8vSNCENbmeQXkRgQIq56VVfOmpVx9t1ev3/zLPzIJWFKywmx53t/8qbDZLkv1ldmZnoQhMV1pUDHRXU1pMrg66BkqLSVP0BKToiUjRE5GiJyJFT0SKnogUPREpeiJS9ESk6IlI0RORoiciRU9Eip6IFD0RKXoiUvREpOiJSNETkaInIkVPRIqeiBQ9ESl6IlL0RKToiUjRE5GiJyJFT0SKnogUPREpeiKai5755sO+veV3sWSBF/29mkkvtkD3R8XwoY5NaeZObofG1Oo3yNctOpGJ4DWT8I9+HNqHDzYEi9ySfDWTnm7p1BlHA83jT6hk3CMwwOYVNsQaf6JfqjKZxhvo7tzm59GPH3sOpKkHKZihkXqh7sXgemlqsDRMjMX7mY9m02vG9MjSmPUDn6U6UO9SM9DBiqMwSUMwUxbo2CMtxCo3TMIU9H6oUQNdi+L5LsTsM9Y3/L4Jboi3yQObQVMLm5CYnml7ZqKDlor3V65m08PLBYeRwaXYFxNNA5LEhciHSIc/cYxqIQ7PFF/so3no5mcbQgvxRrSlh1NG+esXgpYexX7I7fZPw4MgQU+BwFjQZHgWZnPzXC7NpBcaegqWDoghDUKIm1jXT3zwfQhjRIqujQClDqen64Q39iG1I2oQJtTbeYQHATuNIwA3ZYnhuayJtJwUT5W4aI4eeUbx/srVTHqIxU/tRPcYjp1ETwhVAnroeFGT98WzWexrDEeunUT90CYztZE0bxAaRuLMdSEBXUWkEXM/YGCHjmtYYAaAHlSPMWYAWOLdlayZ9CyTLleL8Opd06EnoN8AAt30QeN9iWOT9+hJlUMNwMeoacxH78klgSlx7hKNohcfCS6bdgPmHCRPtYSz5TjxBDr0XCm/iT53mTh2pswE+ove5qWkJ1eh4Xup4dDQCftuZIMPeuBhcDLT1DQYi2DOycFT/fvpOQlovksBBwM5MykKJWYUAnNdHWcNOniLz8KXjN48HXlb29DRGbNcbmCMpl44A3Mp5qU4nB2PhT+Nnjltc3Z0eJEa/NCdWXOMIu1t85dQw9jNHugxI/qMD2Bg0W6mTmAmhkCImoee609sjrqKt29KTktzX3iRGrw+g9Y0oMkyPpk8z8VfjS4NwziCN/HJpBtCN8vA+ogOrzlY+arX1x2fbI9fI2ZBSUjJEEQ4ZD2f54Lf0/j5NZOeiZZikrEYzqhsYCpg8HSduoaX7fPThj5NxagJPwwl+JpBMx0OSxu92KZ036VZojazq5jdxl7TCFPm+xGaDN6tJMV8ELPE0Ao93cN+J56eej7EXpg6rKmZLPWCMAwXHHq+QLwYafYai5fEzAsw10j1yEt05mlRwrwYZ/9oWGmaxEkTSWjNBLMpN3bTJMQhwFJmspDFOOfDoEZEsONJ7HmGhjNu9NpYMf1CrBCC0IrxYEYaOjwDtJo0ycAHz/qMHh9LfTwA+qmEVi7wFOj0Q9ebNyccn4/p4onfTHoaXqtvpJgjuanThGZspjRWGCa5Woipm6uPRm5MHhnT3L6NCSruTN3E0kyKcUaKRDAZ9uCzhuFNw0HOM+LpF4I5WqJbOuZ5LER6dGcCOh/eg7gZMHTyUR+NF7NoFvQZmhteQ0ITjmTBoOfMv4j2QjPpGSkm/XaqNz2dsk1M3VmMQ5VhshmHsQtNfcQBkWGaG5qMknw9gM+BGYfM4vR4MywyQyMiWoIPfX/a2fBCEhyhNjOSlIWaF/Zx6Af9NPYgCZmHp0DTxjJEOq29RJiD2x7EacSC5G9c9ptte0TPCo1mFOqcnhbq/TjVIYmbqZF4qe7wIYNYeQ1fjQk8j1lpqKc+p+ckaEcImTmx7zT1ZoL701nOxtGAkloMDhqgk6esUNewselCYBiUJtIeG8PHePHVwuQXE+C/c741O+Y6YJh41baPMdBBv28bOE9Hp2X4EFEw1HgqjI3A8bFrtM6HHbZxhAYu1dI2ra1i6HHAMYkCBlHHfHteFAhEw58jubPlyNQW8+HTJXFMRrks0Mil57J06VbPR2JRHkddskwtN+Xznsh/hJ7dzOWw/xF6Wj7vFf9H6Pn5hG9heosmma9I4sryg9JcgoYEesKp9nPZfdlHhIXTuR9ImJ4j3R878n2UmU/QkOD3pFtKDj4qp6AhgZ50lxLOWEcQkJvTZzjE6VmyPx+Rg4/K4YZwSZixSB66efioWUuyopJAT/Kl5eGjkhwmQSQJ9Hy5TiUHH5VDFB9JRq4hd6jJn0CCK3PZ7Klk0JPr5nPwUXpeH12TQS+WOkHLwUdN/eiUDMmgJ/Ju/Avl4aPm/Cjh2yVljaUp8eos+T7Kzu2/MkihJ9Ov5OCjpM/nHyWFnswp2rRPxQhKrl9+KjmroxKHbg4+KpV/Q8aSQ09eHpmHj8ppcQ9k0ZPnWfLwUc3cPqsh6X2NpqxJ2j9ocQ+k0ZO2yJfDGxCS8/CnkkRPWiaZg4/y83lHiCSJnrR3m/PzUXlI1vu5oRybydFH5aElezc8Wrr/RPqqloxeXm9A5KQlo5ffxDYXLRm95pJ+/G+GloxeXgtxOent9C63ULuz9+9ubT3bfqXx8qlXXOBFb6d39b+Vwsra7P2rK9nEduW1xkun0tnmAq96O73d9dVOYX32/tVCZ2K7UvhH0RtUF3jVXH6v8u+lt5gWo3e1el25Xr0EuFu9ul67XK3cc3r2WoUqwVytrF1eEz3jfq1SWbubPMzeydHFzuEeL3/8CIc7OydY+vXo4vDm8BOv3Lk4+vji7O7LRc7i/nC4X0LL2eTjrtouYlWvOhyOhmGxfbAxGA4OsNgbDGsj69poD4ftHpVKm7VhbbtEe9vt/d7kIenF1drwt1eBLETPzFZQhewSkRXweaVQ2CV6HSxUbIBrrO10iB46S2y4MmmyHxtfTg6Pjzm+nZ2diy9fL/bgtrFzcnTc+JXqGocnh429ZycPfvnl+fVslFubm6dd7GvvbBs3z/ax061ua3v/bMBJnGFhv4u1m2e17fYZoTioD7e3B0PaXavvb+/XN0b06mPgrdPNzXILD7lRr3W3B2ev4luM3voVxuBO4R6Rre4ixbWVOyxm17urWeEOrt5la7trWYb0tlYx8N5n2eXTw3AuN41DTq/xZVR3vIOPR0Rvr3E79Upf0CvVCFyxTB3crh9At0bd77Ywem6fkSkV62ViU0Rkoza4tU+7gYxro34O4yKqvs2f2qcb49uwUSbEte5rQBb0e7tXV1e0tbryO6C/e49Pq4V3yIgs7n0h43C539u6urrPCs8nLzc3NxcfqLDTGFV84lb364je4bST23/99axmo87H4qBGAAbd/TJxKbbI7EZIi/X2qGWbjAlKZcS1X+49vnz/+7FKI3qlId0BGA5LuJtqfquXXgGyEL3L66ywskLG9UiPzJBmLNeFa1gvVGAcNa46NMizwtbTw+x9OG4cHx+P6F2M6m4b3+CB4YfGxYfb5wN3iqr1YQ3V6nJr6tY5lmKLM2kRt+LZ+ajloEUNa4Rro1Uejn1cu94dnI+neWN6Rf46tMDS+N5sy6eH3m7t/orw/ICekWWd93f3z+h9bdzu7e2NbW9nVPeUHnz7stO4uPnh5VTL7U0Sd/wbrYf+c081ssCz8TSk1uUNN/lwPh90RzZZ6u3X6q0N3uIn0LseDUazktHk5AW9wkMl50gjd/cd+kbYmqS316B4unc8Qe/JyOX6dfrwndDBWe+xjEOOXN9D/0unZIGP9NqT3qvUPtsYF3vj4ftAr8vDDTlU6fTWC9nu5aUJ10Tv6sXILby37zLEdVco/G7e0+4RvfVp9G4bE/T2jo+ArPKBHhx/eXZy548/ntWURl0FGnz7GB9qNISLXQolVd71R3qjTSiVxkGiSvRKvDhJD91nkTbaIJ/eVqFQyLJduH9XuF7PsrHtvXug18k6OFIvwe5kVMbddqWQrV9n2butp4c5Or69+XgxaXtw0vhw++GC6H3aOfn06QMfyRNX+nLGUq0PegfnA+z/OcXP4umAx9zBQbU1LD2lB4Py5kFvs0sxt93bqHLCG8Pzg4M2ectStXpebleraLu9cq3Xq1FwHtM7k0YP7q4rnQ7Gz9Usy35f66zD+84ddK7hvnOPxestZEacditZdrXWWcUSoqvcVToT9G52GujWjrhxff36UHuCPL/xmIvTvsbFi1nLFHrQG5bLp7UeFIfcXVVbVYoa7XK5xoNBsfVAr/Rbq1xutZHE+fB0vLtYw7ouxZWNbrc77Ha5x+x1sbLHK+nxvCWP3nddvl79fffltJZ7MyLqt8bNq/tfqvh8aYSiRmnaesljy1Kx9KLu1UPO1tKs790QMEo6BDWOuT9HS0PvtnGBI/a5s5tfxdP9HzeSpaWhB98+fjwRtjwcl+cH4gd5q5aH3j9Rip6IFD0RKXoiUvREpOiJSNETkaInIkVPRIqeiBQ9ESl6IlL0RKToiUjRE5GiJyJFT0SKnogUPREpeiJS9ESk6IlI0RORoiciRU9Eip6IFD0RKXoiUvREpOiJSNETkaInIkVPRIqeiBQ9ESl6IlL0RKToiUjRE5GiJyJFT0SK3nQ9fCHW4194nvqdzYoeOHZgB45ma5qhOabtuhBYjm8HARU1C2stw7Fc26K/D2zZgWW6buDyb/hU9MC03MCxApRmWeBoTuBahmVqroY8A9c1A8B6y9VcMOgPKpuILnC4cSp6AJERmYHmGo6rBbZjWYarmVgkeg4nq6ExuoHm2Gh/uOUoek9k0j8ThyI+mE5gg23QX/22qY7/OIBbWGXSHvwZN1f0Xsic5yuLFT0RKXoiInrkHpUWkasD05UWFfs/PS4ssChDmkUAAAAASUVORK5CYII=)\n",
        "\n",
        "Lambda bisa memiliki lebih dari satu argumen atau parameter, tapi hanya bisa memiliki satu ekspresi atau isi\n"
      ]
    },
    {
      "cell_type": "code",
      "metadata": {
        "id": "ncCDYkTmRgai"
      },
      "source": [
        "greeting =lambda name: print(f\"Hello, {name}\")"
      ],
      "execution_count": null,
      "outputs": []
    },
    {
      "cell_type": "markdown",
      "metadata": {
        "id": "z_61tT-xRvbT"
      },
      "source": [
        "Karena fungsi lambda tidak punya nama, jadi kita perlu variabel untuk menyimpannya. Nanti saat mau kita panggil, kita tinggal tuliskan saja nama variabelnya seperti ini:"
      ]
    },
    {
      "cell_type": "code",
      "metadata": {
        "colab": {
          "base_uri": "https://localhost:8080/"
        },
        "id": "sIKXrYm3SFrh",
        "outputId": "8d1af975-a527-4394-f99d-867c07dfffc9"
      },
      "source": [
        "greeting(\"Dian\")\n",
        "greeting(\"Ayu\")"
      ],
      "execution_count": null,
      "outputs": [
        {
          "output_type": "stream",
          "name": "stdout",
          "text": [
            "Hello, Dian\n",
            "Hello, Ayu\n"
          ]
        }
      ]
    },
    {
      "cell_type": "markdown",
      "metadata": {
        "id": "JvgaMLU3Saos"
      },
      "source": [
        "Beberapa contoh penggunaan fungsi lambda"
      ]
    },
    {
      "cell_type": "code",
      "metadata": {
        "colab": {
          "base_uri": "https://localhost:8080/"
        },
        "id": "lMLbuaNiSh3g",
        "outputId": "c3f2347b-cd67-4009-a8d0-862a7bd01cd2"
      },
      "source": [
        "# Fungsi lambda untuk menambahkan angka 18 kepada argument input\n",
        "f = lambda x: x+18\n",
        "val1 = f(5)\n",
        "val2 = f(100)\n",
        "print(val1, val2)"
      ],
      "execution_count": null,
      "outputs": [
        {
          "output_type": "stream",
          "name": "stdout",
          "text": [
            "23 118\n"
          ]
        }
      ]
    },
    {
      "cell_type": "code",
      "metadata": {
        "colab": {
          "base_uri": "https://localhost:8080/"
        },
        "id": "KSBu6avQS5Ms",
        "outputId": "aec5c66a-4d68-45d0-e1c6-1d59f738d978"
      },
      "source": [
        "# Fungsi lambda untuk mengalikan adua argument input dan menampilkan hasilnya\n",
        "f = lambda x,y: x*y\n",
        "val3 = f(2,10)\n",
        "val4 = f(7,5)\n",
        "print(val3, val4)"
      ],
      "execution_count": null,
      "outputs": [
        {
          "output_type": "stream",
          "name": "stdout",
          "text": [
            "20 35\n"
          ]
        }
      ]
    },
    {
      "cell_type": "markdown",
      "metadata": {
        "id": "vrdfOZOsTUpa"
      },
      "source": [
        "##Anonymous Function\n",
        "\n",
        "Karena lambda adalah anonymous function, ia akan bebeas menggunakan nama apa saja. Dengan kata lain, fungsi lambda bisa disimpan di variabel mana pun. Ini tentnya tidak bisa dilakukan oleh fungsi yang dibuat dengan _def_. Coba perhatikan ini:"
      ]
    },
    {
      "cell_type": "code",
      "metadata": {
        "colab": {
          "base_uri": "https://localhost:8080/",
          "height": 208
        },
        "id": "R400P_wGUHpp",
        "outputId": "369418f2-fdfa-457f-b2d0-e0aa02a1d60c"
      },
      "source": [
        "def say_hello(nama):\n",
        "  print(f\"Hello {nama}, apa kabar?\")\n",
        "\n",
        "ucapin = say_hello(nama)"
      ],
      "execution_count": null,
      "outputs": [
        {
          "output_type": "error",
          "ename": "NameError",
          "evalue": "ignored",
          "traceback": [
            "\u001b[0;31m---------------------------------------------------------------------------\u001b[0m",
            "\u001b[0;31mNameError\u001b[0m                                 Traceback (most recent call last)",
            "\u001b[0;32m<ipython-input-9-71af2e88b3b4>\u001b[0m in \u001b[0;36m<module>\u001b[0;34m()\u001b[0m\n\u001b[1;32m      2\u001b[0m   \u001b[0mprint\u001b[0m\u001b[0;34m(\u001b[0m\u001b[0;34mf\"Hello {nama}, apa kabar?\"\u001b[0m\u001b[0;34m)\u001b[0m\u001b[0;34m\u001b[0m\u001b[0;34m\u001b[0m\u001b[0m\n\u001b[1;32m      3\u001b[0m \u001b[0;34m\u001b[0m\u001b[0m\n\u001b[0;32m----> 4\u001b[0;31m \u001b[0mucapin\u001b[0m \u001b[0;34m=\u001b[0m \u001b[0msay_hello\u001b[0m\u001b[0;34m(\u001b[0m\u001b[0mnama\u001b[0m\u001b[0;34m)\u001b[0m\u001b[0;34m\u001b[0m\u001b[0;34m\u001b[0m\u001b[0m\n\u001b[0m",
            "\u001b[0;31mNameError\u001b[0m: name 'nama' is not defined"
          ]
        }
      ]
    },
    {
      "cell_type": "markdown",
      "metadata": {
        "id": "99Po6f-KUVJD"
      },
      "source": [
        "Kita mencoba membuat fungsi say_hello() dengan _def_, kemudian menyimpannya ke dalam variabel ucapin.\n",
        "\n",
        "Tapi malah error\n",
        "\n",
        "Ini karena fungsi tersebut bukanlah fungsi anonymous yang boleh diubah-ubah namanya.\n",
        "\n",
        "Lalu perhatikan di baris terakhir, fungsi lambda greeting() yang sudah dibuat disimpan lagi kevariabel yang berbeda, yakni sapa"
      ]
    },
    {
      "cell_type": "code",
      "metadata": {
        "colab": {
          "base_uri": "https://localhost:8080/"
        },
        "id": "V6rgajR6U-Za",
        "outputId": "b2e254a7-20c0-4146-e142-afb892a706a7"
      },
      "source": [
        "greeting = lambda name: print(f\"Hello, {name}\")\n",
        "sapa = greeting\n",
        "greeting(\"Andi\")"
      ],
      "execution_count": null,
      "outputs": [
        {
          "output_type": "stream",
          "name": "stdout",
          "text": [
            "Hello, Andi\n"
          ]
        }
      ]
    },
    {
      "cell_type": "code",
      "metadata": {
        "colab": {
          "base_uri": "https://localhost:8080/"
        },
        "id": "HWj6MCeAVaNm",
        "outputId": "7e8b2dc2-0968-44bd-91c3-fe266d35f75c"
      },
      "source": [
        "sapa(\"Neli\")"
      ],
      "execution_count": null,
      "outputs": [
        {
          "output_type": "stream",
          "name": "stdout",
          "text": [
            "Hello, Neli\n"
          ]
        }
      ]
    },
    {
      "cell_type": "markdown",
      "metadata": {
        "id": "8FmUb5M6Vkgk"
      },
      "source": [
        "Hasilnya tidak error, karena ini adalah fungsi anonymous atau lambda"
      ]
    },
    {
      "cell_type": "markdown",
      "metadata": {
        "id": "oPXJI7Q3VrbO"
      },
      "source": [
        "##Eksekusi Lambda Secara Langsung\n",
        "\n",
        "Eksekusi Lambda secara langsung kelebihan fungsi lambda dibandingkan _def_ adalah bisa kita eksekusi langsung.\n",
        "\n",
        "Contoh:"
      ]
    },
    {
      "cell_type": "code",
      "metadata": {
        "colab": {
          "base_uri": "https://localhost:8080/"
        },
        "id": "VeCi2QobWA00",
        "outputId": "aff70d73-8109-4d00-bf3c-4b320c0225ba"
      },
      "source": [
        "(lambda x,y: x**2 + y**2)(4,6)"
      ],
      "execution_count": null,
      "outputs": [
        {
          "output_type": "execute_result",
          "data": {
            "text/plain": [
              "52"
            ]
          },
          "metadata": {},
          "execution_count": 12
        }
      ]
    },
    {
      "cell_type": "markdown",
      "metadata": {
        "id": "pNKB78XJWIZS"
      },
      "source": [
        "Tanda kurung yang mengapit fungsi lambda artinya kita akan langsung mengeksekusi fungsi tersebut.\n",
        "\n",
        "Lalu kurung berikutnya akan berisi argument.\n",
        "\n",
        "Angka 4 dan 6 adalah argument untuk x dan y yang akan diberikan kepada fungsi lambda.\n",
        "\n",
        "Maka kita akan langsung mendapatkan hasilnya, yakni 42 + 62 = 52\n",
        "\n",
        "Hasil dari eksekusi ini bisa juga kita simpan ke dalam variabel"
      ]
    },
    {
      "cell_type": "code",
      "metadata": {
        "colab": {
          "base_uri": "https://localhost:8080/"
        },
        "id": "_F_FqXJSWorq",
        "outputId": "548c1d22-3fb5-4a7a-ee5d-4e2e67bb8bed"
      },
      "source": [
        "hasil = (lambda x,y: x**2 + y**2)(4,6)\n",
        "hasil"
      ],
      "execution_count": null,
      "outputs": [
        {
          "output_type": "execute_result",
          "data": {
            "text/plain": [
              "52"
            ]
          },
          "metadata": {},
          "execution_count": 14
        }
      ]
    },
    {
      "cell_type": "markdown",
      "metadata": {
        "id": "ND7TSZ--W1Kk"
      },
      "source": [
        "##Mengapa harus pakai Lambda?\n",
        "\n",
        "Kita memang tidak harus selalu menggunakan lambda, tapi dalam kasus tertentu lambda lebih baik dibandingkan fungsi biasa.\n",
        "\n",
        "Lambda biasanya dibutuhkan saat kita ingin membuat fungsi dalam satu baris\n",
        "\n",
        "Biasanya saat menggunakan fungsi-fungsi seperti filter(), map(), dan reduce() kita akan membutuhkan lambda.\n",
        "\n",
        "Mengapa?\n",
        "\n",
        "Karena fungsi-fungsi tersebut membutuhkan parameter fungsi"
      ]
    },
    {
      "cell_type": "code",
      "metadata": {
        "colab": {
          "base_uri": "https://localhost:8080/"
        },
        "id": "I0y95DkbW0fz",
        "outputId": "1d8cd548-422f-4a10-9483-f9a1cafa1a10"
      },
      "source": [
        "bilangan = [10, 2, 8, 7, 4, 3, 11, 0, 1]\n",
        "filtered_result = map(lambda x: x*x, bilangan)\n",
        "print(list(filtered_result))"
      ],
      "execution_count": null,
      "outputs": [
        {
          "output_type": "stream",
          "name": "stdout",
          "text": [
            "[100, 4, 64, 49, 16, 9, 121, 0, 1]\n"
          ]
        }
      ]
    },
    {
      "cell_type": "markdown",
      "metadata": {
        "id": "JwKIcvbXX1u6"
      },
      "source": [
        "Pada fungsi map() kita memberikan parameter dengan fungsi lambda.\n",
        "\n",
        "Mengapa bisa begitu?\n",
        "\n",
        "Karena lambda bisa disimpan ke dalam variabel, otomatis dia akan bisa juga jadi parameter.\n",
        "\n",
        "Satu lagi contoh dengan fungsi filter():"
      ]
    },
    {
      "cell_type": "code",
      "metadata": {
        "colab": {
          "base_uri": "https://localhost:8080/"
        },
        "id": "xNTxXZXjYMJV",
        "outputId": "66acb1ab-e43b-401d-f144-0ad0afb92e7f"
      },
      "source": [
        "# Menentukan bilangan genap\n",
        "genap = lambda x: x%2 == 0\n",
        "list(filter(genap, range(11)))"
      ],
      "execution_count": null,
      "outputs": [
        {
          "output_type": "execute_result",
          "data": {
            "text/plain": [
              "[0, 2, 4, 6, 8, 10]"
            ]
          },
          "metadata": {},
          "execution_count": 16
        }
      ]
    },
    {
      "cell_type": "markdown",
      "metadata": {
        "id": "XfUdCMTlYclo"
      },
      "source": [
        "##Contoh Pemakaian Fungsi Lambda\n",
        "\n",
        "1.   Melakukan filter tertentu pada suatu list"
      ]
    },
    {
      "cell_type": "code",
      "metadata": {
        "colab": {
          "base_uri": "https://localhost:8080/"
        },
        "id": "F6g1CRbAYl5H",
        "outputId": "9c154ce0-907d-4aa7-8998-19a9ea0f6499"
      },
      "source": [
        "list_nama_provinsi = ['Jawa Barat', 'DIY', 'Kalimantan Selatan', 'DKI Jakarta', 'Jawa Timur', 'Sumatra Utara', 'Sulawesi Selatan', 'Banten', 'NTB', 'Jawa Tengah']\n",
        "\n",
        "# Mengambil nama provinsi dengan kata 'Jawa'\n",
        "pilih_jawa = lambda k: 'jawa' in k.lower()\n",
        "# Note: lower() untuk merubah huruf menjadi lower case\n",
        "\n",
        "list(filter(pilih_jawa, list_nama_provinsi))"
      ],
      "execution_count": null,
      "outputs": [
        {
          "output_type": "execute_result",
          "data": {
            "text/plain": [
              "['Jawa Barat', 'Jawa Timur', 'Jawa Tengah']"
            ]
          },
          "metadata": {},
          "execution_count": 18
        }
      ]
    },
    {
      "cell_type": "markdown",
      "metadata": {
        "id": "KZbumVjdZsSY"
      },
      "source": [
        "2.   Mendefinisikan kolom baru dengan fungsi tertentu pada DataFrame"
      ]
    },
    {
      "cell_type": "code",
      "metadata": {
        "colab": {
          "base_uri": "https://localhost:8080/",
          "height": 237
        },
        "id": "trV9cw1QZ4zO",
        "outputId": "f30c7ac7-17cf-4d4f-ed15-1e271b63b753"
      },
      "source": [
        "# Impor library Pandas\n",
        "import pandas as pd\n",
        "\n",
        "# Membuat list yang memuat data\n",
        "hasil_ekspor = [['Rohan', 445], ['Elvan', 250], ['Irpan', 295], ['Soni', 400], ['Radhika', 350], ['Joni', 450]]\n",
        "\n",
        "#Membuat Pandas DataFrame\n",
        "df = pd.DataFrame(hasil_ekspor, columns=['Eksportir', 'Total_Ekspor_TON'])\n",
        "\n",
        "# Target Ekspor adalah 500 ton\n",
        "# Persentase hasil ekspor diperoleh dari Total_Ekspor_TON dibagi target X 100%\n",
        "# diterapkan pada DataFrame dengan bantuan method df.assign()\n",
        "df = df.assign(Persentase = lambda x: (x['Total_Ekspor_TON'] /500*100))\n",
        "\n",
        "# Menampilkan DataFrame\n",
        "df"
      ],
      "execution_count": null,
      "outputs": [
        {
          "output_type": "execute_result",
          "data": {
            "text/html": [
              "<div>\n",
              "<style scoped>\n",
              "    .dataframe tbody tr th:only-of-type {\n",
              "        vertical-align: middle;\n",
              "    }\n",
              "\n",
              "    .dataframe tbody tr th {\n",
              "        vertical-align: top;\n",
              "    }\n",
              "\n",
              "    .dataframe thead th {\n",
              "        text-align: right;\n",
              "    }\n",
              "</style>\n",
              "<table border=\"1\" class=\"dataframe\">\n",
              "  <thead>\n",
              "    <tr style=\"text-align: right;\">\n",
              "      <th></th>\n",
              "      <th>Eksportir</th>\n",
              "      <th>Total_Ekspor_TON</th>\n",
              "      <th>Persentase</th>\n",
              "    </tr>\n",
              "  </thead>\n",
              "  <tbody>\n",
              "    <tr>\n",
              "      <th>0</th>\n",
              "      <td>Rohan</td>\n",
              "      <td>445</td>\n",
              "      <td>89.0</td>\n",
              "    </tr>\n",
              "    <tr>\n",
              "      <th>1</th>\n",
              "      <td>Elvan</td>\n",
              "      <td>250</td>\n",
              "      <td>50.0</td>\n",
              "    </tr>\n",
              "    <tr>\n",
              "      <th>2</th>\n",
              "      <td>Irpan</td>\n",
              "      <td>295</td>\n",
              "      <td>59.0</td>\n",
              "    </tr>\n",
              "    <tr>\n",
              "      <th>3</th>\n",
              "      <td>Soni</td>\n",
              "      <td>400</td>\n",
              "      <td>80.0</td>\n",
              "    </tr>\n",
              "    <tr>\n",
              "      <th>4</th>\n",
              "      <td>Radhika</td>\n",
              "      <td>350</td>\n",
              "      <td>70.0</td>\n",
              "    </tr>\n",
              "    <tr>\n",
              "      <th>5</th>\n",
              "      <td>Joni</td>\n",
              "      <td>450</td>\n",
              "      <td>90.0</td>\n",
              "    </tr>\n",
              "  </tbody>\n",
              "</table>\n",
              "</div>"
            ],
            "text/plain": [
              "  Eksportir  Total_Ekspor_TON  Persentase\n",
              "0     Rohan               445        89.0\n",
              "1     Elvan               250        50.0\n",
              "2     Irpan               295        59.0\n",
              "3      Soni               400        80.0\n",
              "4   Radhika               350        70.0\n",
              "5      Joni               450        90.0"
            ]
          },
          "metadata": {},
          "execution_count": 20
        }
      ]
    },
    {
      "cell_type": "markdown",
      "metadata": {
        "id": "YHKyWEYSkFBb"
      },
      "source": [
        "## Latihan\n",
        "\n",
        "1.   Buatlah fungsi lambda untuk melalukan filter pada data range (n) untuk data-data berupa kelipatan 3"
      ]
    },
    {
      "cell_type": "code",
      "metadata": {
        "colab": {
          "base_uri": "https://localhost:8080/"
        },
        "id": "VKlqEAhfmYNO",
        "outputId": "0e30c024-5231-40c8-fc87-9c31458214d3"
      },
      "source": [
        "ganjil = lambda x: x%3 == 0\n",
        "list(filter(ganjil, range(10)))"
      ],
      "execution_count": null,
      "outputs": [
        {
          "output_type": "execute_result",
          "data": {
            "text/plain": [
              "[0, 3, 6, 9]"
            ]
          },
          "metadata": {},
          "execution_count": 1
        }
      ]
    },
    {
      "cell_type": "markdown",
      "metadata": {
        "id": "sQWtok5VmYm_"
      },
      "source": [
        "2.   Buatlah fungsi lambda untuk memilih kata-kata dengan jumlah karakter lebih dari sama dengan 6 pada list inputnya\n",
        "\n",
        "Misalnya:\n",
        "\n",
        "list_input = ['saya', 'adalah', 'seorang', 'kapiten']\n",
        "\n",
        "Output:\n",
        "\n",
        "['adalah', 'seorang', 'kapiten'"
      ]
    },
    {
      "cell_type": "code",
      "metadata": {
        "id": "H-5GFSAQmbX8",
        "colab": {
          "base_uri": "https://localhost:8080/"
        },
        "outputId": "7709ab07-3c08-4a95-aabd-4bcb7edb6bd1"
      },
      "source": [
        "list_input = ['saya', 'adalah', 'seorang', 'kapiten']\n",
        "kata = map(lambda x: len(x)>= 6, list_input)\n",
        "print(list(kata))"
      ],
      "execution_count": 6,
      "outputs": [
        {
          "output_type": "stream",
          "name": "stdout",
          "text": [
            "[False, True, True, True]\n"
          ]
        }
      ]
    }
  ]
}