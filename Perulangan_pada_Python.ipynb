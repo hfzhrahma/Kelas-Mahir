{
  "nbformat": 4,
  "nbformat_minor": 0,
  "metadata": {
    "colab": {
      "name": "Untitled6.ipynb",
      "provenance": []
    },
    "kernelspec": {
      "name": "python3",
      "display_name": "Python 3"
    },
    "language_info": {
      "name": "python"
    }
  },
  "cells": [
    {
      "cell_type": "markdown",
      "metadata": {
        "id": "XDf1tE0O_Hkk"
      },
      "source": [
        "##Pembuka\n",
        "\n",
        "Bismillahirrahmanirrahim\n",
        "\n",
        "Assalamu'alaikum warahmatullahi wabarakatuh\n",
        "\n",
        "Puji syukur kehadirat Allah Subhana Wata'ala atas limpahan Rahmat dan Hidayah-Nya kepada kita semua. Sholawat serta salam senantiasa tercurah limpahkan kepada baginda Muhammad Rasulullah Salallahualaihiwassalam.\n",
        "\n",
        "Halo para **Pejuang Data**. Selamat berjumpa di pertemuan pertama Program Training **Algoritma Machine Learning** Kelas Mahir.\n",
        "\n",
        "Pada petemuan ini kamu akan belajar:\n",
        "\n",
        "1.   Looping atau Perulangan\n",
        "2.   For Loop\n",
        "3.   While Loop\n",
        "4.   Contoh Perulangan\n",
        "5.   Latihan\n",
        "\n"
      ]
    },
    {
      "cell_type": "markdown",
      "metadata": {
        "id": "IVUEMwRO_YL8"
      },
      "source": [
        "##Looping atau Perulangan\n",
        "\n",
        "Pyton menyediakan dua statement untuk melakukan proses perulangan yaitu _for_ dan _while_. Diantara kedua statement ini, secara umum _for_ lebih banyak digunakan daripada while."
      ]
    },
    {
      "cell_type": "markdown",
      "metadata": {
        "id": "qNuhqElq_5ww"
      },
      "source": [
        "##For Loop\n",
        "\n",
        "Perulangan for digunakan untuk melakukan iterasi di dalam sequence seperti *list*, *tuple*, *string*, dan *array* atau objek yang dapat diiterasi lainnya.\n",
        "\n",
        "**For Loop Flowchart**\n",
        "\n",
        "![download.jpg](data:image/jpeg;base64,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)"
      ]
    },
    {
      "cell_type": "code",
      "metadata": {
        "colab": {
          "base_uri": "https://localhost:8080/"
        },
        "id": "lrZbnvg8Jjxk",
        "outputId": "5ca93e55-35bd-4543-f5b3-748d33cee46a"
      },
      "source": [
        "# Program untuk menghitung jumlah semua angka dalam sebuah list\n",
        "\n",
        "# List angka\n",
        "list_angka = [6, 5, 3, 8, 4, 2, 5, 4, 11]\n",
        "\n",
        "# Variabel untuk menyimpan hasil penjumlahan\n",
        "jumlahan = 0\n",
        "\n",
        "# Iterasi di dalam list\n",
        "for angka in list_angka:\n",
        "  jumlahan = jumlahan+angka\n",
        "\n",
        "print(\"Jumlah :\", jumlahan)"
      ],
      "execution_count": null,
      "outputs": [
        {
          "output_type": "stream",
          "name": "stdout",
          "text": [
            "Jumlah : 48\n"
          ]
        }
      ]
    },
    {
      "cell_type": "markdown",
      "metadata": {
        "id": "n1RT0HByCOik"
      },
      "source": [
        "**The range(n) function**\n",
        "\n",
        "Kita dapat membuat sebuah *sequence* angka menggunakan fungsi *range()*, range(10) akan menghasilkan sequence angka dari 0 sampai 9 (10 angka)\n",
        "\n",
        "Kita juga dapat mendefinisikan nilai awal, nilai akhir dan step sizenya yaitu range(start, stp, step_size). Secara default _step_size_ bernilai 1 jika tidak ditentukan secara khusus.\n",
        "\n",
        "Kita dapat menggunakan fungsi range() di dalam perulangan _for_ untuk melakukan iterasi di dalam _sequence numbers_. Ini dapat kita kombinasikan dengan fungsi *len()* untuk melakukan iterasi melalui index dari sebuah sequence. Berikut contohnya:"
      ]
    },
    {
      "cell_type": "code",
      "metadata": {
        "colab": {
          "base_uri": "https://localhost:8080/"
        },
        "id": "3ZRKY2RzDTxI",
        "outputId": "2a85494c-8852-4d7e-9a5d-16115b2916fb"
      },
      "source": [
        "# Program untuk melakukan iterasi di dalam list melalui indeks\n",
        "\n",
        "musik = ['Dangdut', 'Campur Sari', 'Keroncong', 'Jazz', 'Pop']\n",
        "\n",
        "# Iterasi di dalam list melalui indeks\n",
        "for i in range(len(musik)):\n",
        "  print(\"Aku suka\", musik[i])"
      ],
      "execution_count": null,
      "outputs": [
        {
          "output_type": "stream",
          "name": "stdout",
          "text": [
            "Aku suka Dangdut\n",
            "Aku suka Campur Sari\n",
            "Aku suka Keroncong\n",
            "Aku suka Jazz\n",
            "Aku suka Pop\n"
          ]
        }
      ]
    },
    {
      "cell_type": "markdown",
      "metadata": {
        "id": "SDQ6TBj5DziX"
      },
      "source": [
        "**for loop with else**\n",
        "\n",
        "Sebuah for loop dapat memiliki opsi blok else. Blok else akan dijalankan jika iterasi telah selesai dilakukan dalam sebuah sequence.\n",
        "\n",
        "Keyword *break* digunakan untuk menghentikan iterasi. Dalam kasus itu maka bagian *else* diabaikan. Sehingga bagian iterasi *else* hanya dijalankan jika tidak terjadi break\n",
        "\n",
        "Berikut adalah beberapa contoh sebagai ilustrasi:"
      ]
    },
    {
      "cell_type": "code",
      "metadata": {
        "colab": {
          "base_uri": "https://localhost:8080/"
        },
        "id": "4pfYlLNnEhjV",
        "outputId": "00c8d093-be7a-43c8-89a6-9f2935b2c4ac"
      },
      "source": [
        "digit = [0, 1, 5]\n",
        "\n",
        "for i in digit:\n",
        "  print(i)\n",
        "else:\n",
        "  print('Tidak ada elemen yang tersisa')"
      ],
      "execution_count": null,
      "outputs": [
        {
          "output_type": "stream",
          "name": "stdout",
          "text": [
            "0\n",
            "1\n",
            "5\n",
            "Tidak ada elemen yang tersisa\n"
          ]
        }
      ]
    },
    {
      "cell_type": "markdown",
      "metadata": {
        "id": "WM8EuL-BEvwH"
      },
      "source": [
        "Ketika iterasi berjalan maka akan dilakukan print item hingga iterasi selesai. Ketika iterasi pada sequence selesai baru perintah pada blok _else_ dijalankan yaitu print \"Tidak ada elemen yang tersisa\" \n",
        "\n",
        "Statement *for ... else* dapat digunakan bersama dengan keyword break untuk menjalankan blok else hanya ketika *break* tidak dieksekusi. Lihat contoh berikut:"
      ]
    },
    {
      "cell_type": "code",
      "metadata": {
        "colab": {
          "base_uri": "https://localhost:8080/"
        },
        "id": "HG3s9enBFSc4",
        "outputId": "f79dab52-edc2-4735-f9a8-99cd2b3daa3e"
      },
      "source": [
        "#  Program untuk menampilkan nilai tugas siswa\n",
        "nama_siswa = 'Butet'\n",
        "\n",
        "daftar_nilai = {\"Bambang\": 90, \"Andri\": 55, \"Candra\": 77}\n",
        "\n",
        "for siswa in daftar_nilai:\n",
        "  if siswa == nama_siswa:\n",
        "    print(daftar_nilai[siswa])\n",
        "    break\n",
        "else:\n",
        "  print('Tidak ada data nilai atas nama', nama_siswa)"
      ],
      "execution_count": null,
      "outputs": [
        {
          "output_type": "stream",
          "name": "stdout",
          "text": [
            "Tidak ada data nilai atas nama Butet\n"
          ]
        }
      ]
    },
    {
      "cell_type": "markdown",
      "metadata": {
        "id": "XfcCF2oyWv0U"
      },
      "source": [
        "##While Loop\n",
        "\n",
        "While loop pada Python digunakan untuk melakukan iterasi pada blok kode selama nilai dari test expression adalah *true*\n",
        "\n",
        "Looping ini biasanya digunakan ketika kita tidak tau berapa kali iterasi akan dilakukan hingga sebuah kondisi yang diinginkan dapat dicapai.\n",
        "\n",
        "**Syntax of while Loop in Python**\n",
        "\n",
        "![Screenshot (44).png](data:image/png;base64,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)\n",
        "\n",
        "Pada loop while, test expression justru dicheck pertama kali. Kemudian statement-statement di dalam *body of while* akan dieksekusi jika nilai dari *test expression* adalah *true*. Setelah satu iterasi dijalankan, test expression dicek kembali. Proses ini terus berlanjut hingga nilai evaluasi dari test expression adalah *false*\n",
        "\n",
        "Pada python, bagian body pada *loop while* dituliskan menggunakan indentasi\n",
        "\n",
        "Sebagai catatan tambahan bahwa Python menginterpretasikan *non-zero values* sebagai *true*. None dan 0 diinterpretasikan sebagai *false*\n",
        "\n",
        "**While Loop Flowchart**\n",
        "\n",
        "![download (1).jpg](data:image/jpeg;base64,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)\n",
        "\n",
        "**Contoh: Python while loop**"
      ]
    },
    {
      "cell_type": "code",
      "metadata": {
        "colab": {
          "base_uri": "https://localhost:8080/"
        },
        "id": "8S0eT1cOZ6LI",
        "outputId": "95104688-7995-4cc1-a248-666c71aa0f29"
      },
      "source": [
        "# Program untuk menjumlahkan semua\n",
        "# Bilangan asli hingga suku ke-n\n",
        "# Jumlahan = 1 + 2 + 3 + ... + n\n",
        "\n",
        "n=10\n",
        "\n",
        "# Nilai awal penjumlahan dan iterasi\n",
        "jumlahan = 0\n",
        "i=1\n",
        "\n",
        "while i <= n:\n",
        "  jumlahan = jumlahan + i\n",
        "  i = i+1 #Update Iterasi\n",
        "\n",
        "# Cetak hasil penjumlahan\n",
        "print(\"Hasil Jumlah :\", jumlahan)"
      ],
      "execution_count": null,
      "outputs": [
        {
          "output_type": "stream",
          "name": "stdout",
          "text": [
            "Hasil Jumlah : 55\n"
          ]
        }
      ]
    },
    {
      "cell_type": "markdown",
      "metadata": {
        "id": "yxfVcoOTaij7"
      },
      "source": [
        "Pada program di atas, *test expression* akan bernilai *true* selama nilai iterasi i kurang dari atau sama dengan n\n",
        "\n",
        "Kita perlu mengupdate nilai dari variabel pencatat iterasi i agar iterasi tidak berlangsung secara terus menerus (infinity loop).\n",
        "\n",
        "**While loop with else**\n",
        "\n",
        "Sama dengan dengan *for loop* kita juga dapat mengkombinasikan *while loop* dengan *blok_size*.\n",
        "\n",
        "Bagian *else* akan dieksekusi jika nilai pada *test expression* pada *while loop* bernilai *false*\n",
        "\n",
        "Perhatikan contoh berikut:"
      ]
    },
    {
      "cell_type": "code",
      "metadata": {
        "colab": {
          "base_uri": "https://localhost:8080/"
        },
        "id": "pBwd82wBbRuQ",
        "outputId": "ae3f7e4b-97a7-41e3-8259-e59126a8e81d"
      },
      "source": [
        "counter = 0\n",
        "\n",
        "while counter < 3:\n",
        "  print(\"Di dalam loop\")\n",
        "  counter = counter + 1\n",
        "else:\n",
        "  print(\"Di dalam else\")"
      ],
      "execution_count": null,
      "outputs": [
        {
          "output_type": "stream",
          "name": "stdout",
          "text": [
            "Di dalam loop\n",
            "Di dalam loop\n",
            "Di dalam loop\n",
            "Di dalam else\n"
          ]
        }
      ]
    },
    {
      "cell_type": "markdown",
      "metadata": {
        "id": "DoDmLlgqb3xn"
      },
      "source": [
        "##Contoh Penggunakan Looping atau Perulangan\n",
        "\n",
        "**Contoh 1:**\n",
        "\n",
        "Diberikan *list_tagihan*. Kamu diminta untuk menghitung jumlah seluruh tagihan. Gunakan looping for untuk menyelesaikan tugas ini. Simpan hasilnya pada variabel *total_tagihan*\n",
        "\n",
        "*list_tagihan = [50000, 75000, -15000, 125000, 300000, -50000, 200000]*"
      ]
    },
    {
      "cell_type": "code",
      "metadata": {
        "colab": {
          "base_uri": "https://localhost:8080/"
        },
        "id": "xH3k4Be5ck_Y",
        "outputId": "cf9925dc-e4cc-44a4-9508-3e3fadf6a21c"
      },
      "source": [
        "list_tagihan = [50000, 75000, -15000, 125000, 300000, -50000, 200000]\n",
        "total_tagihan=0\n",
        "for tagihan in list_tagihan: # Untuk setiap tagihan dalam list_tagihan\n",
        "  total_tagihan += tagihan # Tambahkan tagihan ke total_tagihan\n",
        "print(total_tagihan)"
      ],
      "execution_count": null,
      "outputs": [
        {
          "output_type": "stream",
          "name": "stdout",
          "text": [
            "685000\n"
          ]
        }
      ]
    },
    {
      "cell_type": "markdown",
      "metadata": {
        "id": "GKKIBvdic_ov"
      },
      "source": [
        "**Contoh 2:**\n",
        "\n",
        "Diberikan *list_tagihan*. Kamu diminta untuk menghitung jumlah seluruh tagihan. Gunakan looping *for* untuk menyelesaikan tugas ini. Simpan hasilnya pada variabel *total_tagihan*\n",
        "\n",
        "*list_tagihan = [50000, 75000, -15000, 125000, 300000, -50000, 200000]*\n",
        "\n",
        "Perhatikan bahwa, terdapat nilai tagihan yang negatif. Hentikan perhitungan *total_tagihan* jika menemukan nilai negatif"
      ]
    },
    {
      "cell_type": "code",
      "metadata": {
        "colab": {
          "base_uri": "https://localhost:8080/"
        },
        "id": "SHzdlglHdkEh",
        "outputId": "d52cdd4c-925c-409d-fc9a-9a61d8fedace"
      },
      "source": [
        "list_tagihan = [50000, 75000, -15000, 125000, 300000, -50000, 200000]\n",
        "total_tagihan = 0\n",
        "for tagihan in list_tagihan:\n",
        "  if tagihan < 0:\n",
        "    print(\"Terdapat angka minus dalam tagihan, perhitungan dihentikan\")\n",
        "    break\n",
        "  total_tagihan += tagihan\n",
        "print(total_tagihan)"
      ],
      "execution_count": null,
      "outputs": [
        {
          "output_type": "stream",
          "name": "stdout",
          "text": [
            "Terdapat angka minus dalam tagihan, perhitungan dihentikan\n",
            "125000\n"
          ]
        }
      ]
    },
    {
      "cell_type": "markdown",
      "metadata": {
        "id": "oDbe-CE8d5ZB"
      },
      "source": [
        "**Contoh 3:**\n",
        "\n",
        "Diberikan *list_cash_flow* kamu diminta untuk melakukan penghitungan *total_pemasukan* dan *total_pengeluaran* menggunakan *looping for*. Untuk nilai positif berarti adalah pemasukan dan nilai negatif berarti adalah pengeluaran.\n",
        "\n",
        "*list_cash_flow = [2500000, 5000000, -1000000, -2500000, 5000000, 10000000, -5000000, 7500000, 10000000, -1500000, 2500000, -2500000]*"
      ]
    },
    {
      "cell_type": "code",
      "metadata": {
        "colab": {
          "base_uri": "https://localhost:8080/"
        },
        "id": "fOq4XzdCeroN",
        "outputId": "69823889-37fc-4d7b-ca2e-932b5b41040b"
      },
      "source": [
        "list_cash_flow = [2500000, 5000000, -1000000, -2500000, 5000000, 10000000, -5000000, 7500000, 10000000, -1500000, 2500000, -2500000]\n",
        "total_pengeluaran, total_pemasukan = 0, 0\n",
        "for dana in list_cash_flow:\n",
        "  if dana > 0:\n",
        "    total_pemasukan += dana\n",
        "  else:\n",
        "    total_pengeluaran += dana\n",
        "total_pengeluaran *= -1\n",
        "print(\"Jumlah Pengeluaran :\", total_pengeluaran)\n",
        "print(\"Jumlah Pemasukan: \", total_pemasukan)"
      ],
      "execution_count": null,
      "outputs": [
        {
          "output_type": "stream",
          "name": "stdout",
          "text": [
            "Jumlah Pengeluaran : 12500000\n",
            "Jumlah Pemasukan:  42500000\n"
          ]
        }
      ]
    },
    {
      "cell_type": "markdown",
      "metadata": {
        "id": "76tiqTWSfh6i"
      },
      "source": [
        "##Latihan\n",
        "\n",
        "1.   Buatlah fungsi untuk menghitung diskon 15% suatu pembayaran belanjaan dengan input berupa dictionary untuk daftar harga dan daftar belanjaan.\n",
        "\n",
        "Contoh:\n",
        "\n",
        "*daftar_harga = {'Telur': 20000, 'Gula_Pasir': 16000, 'Teh': 4000}*\n",
        "\n",
        "*daftar_belanjaan = {'Telur': 5, 'Gula_Pasir': 4, 'Teh': 1}*\n",
        "\n",
        "*jumlah_bayar = pembayaran(daftar_harga, daftar_belanjaan)*\n",
        "\n",
        "Output:\n",
        "168000"
      ]
    },
    {
      "cell_type": "code",
      "metadata": {
        "colab": {
          "base_uri": "https://localhost:8080/"
        },
        "id": "yL_JFEUm7d41",
        "outputId": "c9fb0ebb-1f2d-481b-e8b7-9dc577012c29"
      },
      "source": [
        "daftar_harga = {'telur' : 20000, 'gula_pasir' : 16000, 'teh' : 4000}\n",
        "daftar_belanjaan = {'telur' : 5, 'gula_pasir' : 4, 'teh' : 1}\n",
        "#Mendefinisikan dictionary\n",
        "def pembayaran(daftar_harga, daftar_belanjaan):\n",
        "#Mendefinisikan function\n",
        "  jumlah = 0\n",
        "  #Menentukan nilai awal jumlah\n",
        "  for barang in daftar_harga:\n",
        "    for beli in daftar_belanjaan:\n",
        "    #Membuat loop for\n",
        "      if barang == beli:\n",
        "        jumlah += daftar_harga[beli]*daftar_belanjaan[beli]\n",
        "     #Menentukan kondisi if\n",
        "  disc = jumlah-jumlah*0.15\n",
        "    #Menentukan diskon\n",
        "  return disc\n",
        "jumlah_bayar = pembayaran(daftar_harga, daftar_belanjaan)\n",
        "print(jumlah_bayar)"
      ],
      "execution_count": 1,
      "outputs": [
        {
          "output_type": "stream",
          "name": "stdout",
          "text": [
            "142800.0\n"
          ]
        }
      ]
    }
  ]
}