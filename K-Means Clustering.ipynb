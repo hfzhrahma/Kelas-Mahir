{
 "cells": [
  {
   "cell_type": "markdown",
   "id": "edcee10f",
   "metadata": {},
   "source": [
    "# Pembuka \n",
    "\n",
    "Bismillahirrahmanirrahim\n",
    "\n",
    "Assalamu'alaikum warahmatullahi wabarakatuh\n",
    "\n",
    "Puji syukur kehadirat Allah Subhana Wata'ala atas limpahan Rahmat dan Hidayah-Nya kepada kita semua. Sholawat serta salam senantiasa tercurah limpahkan kepada baginda Muhammad Rasulullah Salallahualaihiwassalam.\n",
    "\n",
    "Halo para **Pejuang Data**. Selamat berjumpa di pertemuan pertama Program Training **Algoritma Machine Learning** Kelas Mahir. \n",
    "\n",
    "Pada pertemuan ini kamu akan belajar\n",
    "\n",
    "1.   K Means Clustering\n",
    "2.   Algoritma K Means Clustering\n",
    "3.   Contoh K Means Clustering\n",
    "4.   Fungsi K Means Clustering\n",
    "5.   K Means dengan Scikit Learn"
   ]
  },
  {
   "cell_type": "markdown",
   "id": "dc82c739",
   "metadata": {},
   "source": [
    "# K Means Clustering\n",
    "\n",
    "K-Means (MacQueen, 1967) adalah salah satu algortima pembelajaran tanpa pengawasan paling sederhana yang memecahkan masalah pengelompokkan yang terkenal. Prosedurnya mengikuti cara sederhana dan mudah untuk mengklasifikasikan kumpulan data yang diberikan melalui sejumlah cluster tertentu (asumsikan k cluster) teteap secara apriori. Ide utamanya adalah mendefinisikan k centroid, satu untuk setiap cluster. Centroid ini harus ditempatkan dengan cara yang licik karena lokasi yang berbeda menyababkan hasil yang berbeda. Jadi, pilihan yang lebih baik adalah menempatkan mereka sejauh mungkin dari satu sala lain. Langkah selanjutnya adalah mengambil setiap titil milik kumpulan data yang diberikan dan mengaitkannya ke centroid terdekat. Ketika tidak ada poin yang tertunda, langkah pertama selesai dan pengelompojan awal dilakukan dari langkah sebelumnya. Setelah kita memiliki k centroid bari ini, peningkatan baru harus dilakukan antara ririk set data yang sama dan centroid baru terdekat. Sebuah loop telah dibuat. Sebagai hasil dari loop ini kita dapat melihat bahwa k centroid mengubah lokasina langkah demi langkah sampai tidak ada lagi perubahan yang dilakukan. Dengan kata lain centroid tidak bergerak lagi. Terakhir, algoritma ini bertujuan untuk meminimalkan fungsi tujuan, dalam hal ini fungsi kesalahan kuadrat. Fungsi tujuan\n",
    "\n",
    "$$ J=\\sum^k_{j=1}\\sum^k_{i=1}||x_i^{(j)}-c_j||^2 $$\n",
    "\n",
    "dimana $ ||x_i^{(j)}-c_j||^2 $ adalah ukuran jarak yang dipilih antara titik data $ x_i^{(j)} $ dan pusat cluster $c_j$ merupakan indikator jarak n titik data dari masing-masing pusat cluster\n",
    "\n",
    "## Algoritma K-Means Clustering\n",
    "\n",
    "1.   Tentukan parameter k\n",
    "2.   Tentukan pusat cluster awal secara acak\n",
    "3.   Hitung jarak setiap data ke pusat cluster\n",
    "4.   Tetapkan cluster data berdasarkan pusat cluster terdekat\n",
    "5.   Memperbarui pusat cluster dengan menghitung nilai rata-rata setiap cluster\n",
    "6.   Ulangi langkah 3-5 sampai kriteria terpenuhi:\n",
    "     * Jumlah iterasi tertentu tercapau, atau\n",
    "     * Tidak ada (atau minimal) perbedaan anggota cluster pada dua itersi terakhir, atau\n",
    "     * Tidak ada (atau minimum) perbedaan pusat cluster atau\n",
    "     * Selisih SSE (Sum of Squared Error) minimum"
   ]
  },
  {
   "cell_type": "markdown",
   "id": "2a7538b3",
   "metadata": {},
   "source": [
    "## Contoh Implementasi K Means\n",
    "\n",
    "**0. DataSet**\n",
    "\n",
    "\n",
    "|$$x_1$$|$$x_2$$|\n",
    "|-------|-------|\n",
    "|$$1$$|$$1$$|\n",
    "|$$2$$|$$3$$|\n",
    "|$$7$$|$$8$$|\n",
    "|$$8$$|$$8$$|\n"
   ]
  },
  {
   "cell_type": "code",
   "execution_count": 108,
   "id": "fb6ad107",
   "metadata": {},
   "outputs": [],
   "source": [
    "import pandas as pd\n",
    "import numpy as np\n",
    "import matplotlib.pyplot as plt"
   ]
  },
  {
   "cell_type": "code",
   "execution_count": 109,
   "id": "2a2cbd4c",
   "metadata": {},
   "outputs": [
    {
     "data": {
      "text/html": [
       "<div>\n",
       "<style scoped>\n",
       "    .dataframe tbody tr th:only-of-type {\n",
       "        vertical-align: middle;\n",
       "    }\n",
       "\n",
       "    .dataframe tbody tr th {\n",
       "        vertical-align: top;\n",
       "    }\n",
       "\n",
       "    .dataframe thead th {\n",
       "        text-align: right;\n",
       "    }\n",
       "</style>\n",
       "<table border=\"1\" class=\"dataframe\">\n",
       "  <thead>\n",
       "    <tr style=\"text-align: right;\">\n",
       "      <th></th>\n",
       "      <th>x1</th>\n",
       "      <th>x2</th>\n",
       "    </tr>\n",
       "  </thead>\n",
       "  <tbody>\n",
       "    <tr>\n",
       "      <th>0</th>\n",
       "      <td>1</td>\n",
       "      <td>1</td>\n",
       "    </tr>\n",
       "    <tr>\n",
       "      <th>1</th>\n",
       "      <td>2</td>\n",
       "      <td>3</td>\n",
       "    </tr>\n",
       "    <tr>\n",
       "      <th>2</th>\n",
       "      <td>7</td>\n",
       "      <td>8</td>\n",
       "    </tr>\n",
       "    <tr>\n",
       "      <th>3</th>\n",
       "      <td>8</td>\n",
       "      <td>8</td>\n",
       "    </tr>\n",
       "  </tbody>\n",
       "</table>\n",
       "</div>"
      ],
      "text/plain": [
       "   x1  x2\n",
       "0   1   1\n",
       "1   2   3\n",
       "2   7   8\n",
       "3   8   8"
      ]
     },
     "execution_count": 109,
     "metadata": {},
     "output_type": "execute_result"
    }
   ],
   "source": [
    "data = pd.DataFrame({\"x1\": [1,2,7,8], \"x2\": [1,3,8,8]})\n",
    "data"
   ]
  },
  {
   "cell_type": "code",
   "execution_count": 110,
   "id": "015df24e",
   "metadata": {},
   "outputs": [
    {
     "data": {
      "text/plain": [
       "<matplotlib.collections.PathCollection at 0x26e9e70b550>"
      ]
     },
     "execution_count": 110,
     "metadata": {},
     "output_type": "execute_result"
    },
    {
     "data": {
      "image/png": "[encoded data removed]",
      "text/plain": [
       "<Figure size 432x288 with 1 Axes>"
      ]
     },
     "metadata": {
      "needs_background": "light"
     },
     "output_type": "display_data"
    }
   ],
   "source": [
    "plt.scatter(data.x1, data.x2)"
   ]
  },
  {
   "cell_type": "markdown",
   "id": "a0b67cc6",
   "metadata": {},
   "source": [
    "**1.  Tentukan parameternya k**\n",
    "\n",
    "$$ k=2 $$"
   ]
  },
  {
   "cell_type": "code",
   "execution_count": 111,
   "id": "79052d4c",
   "metadata": {},
   "outputs": [],
   "source": [
    "k=2"
   ]
  },
  {
   "cell_type": "markdown",
   "id": "88bc08ae",
   "metadata": {},
   "source": [
    "**2.  Tentukan pusat cluster awal secara acak**\n",
    "\n",
    "|**Centroid**|$$x_1$$|$$x_2$$|\n",
    "|-------|-------|-------|\n",
    "|$$c_1$$|$$1$$|$$1$$|\n",
    "|$$c_2$$|$$2$$|$$3$$|"
   ]
  },
  {
   "cell_type": "code",
   "execution_count": 112,
   "id": "bd96114e",
   "metadata": {},
   "outputs": [
    {
     "data": {
      "text/plain": [
       "array([[1, 1],\n",
       "       [2, 3]])"
      ]
     },
     "execution_count": 112,
     "metadata": {},
     "output_type": "execute_result"
    }
   ],
   "source": [
    "pusat_klaster = np.array([[1,1],[2,3]])\n",
    "pusat_klaster"
   ]
  },
  {
   "cell_type": "code",
   "execution_count": 113,
   "id": "8c927f11",
   "metadata": {},
   "outputs": [],
   "source": [
    "# Menentukan pusat klaster awal\n",
    "import random\n",
    "def pusat_klaster_awal(k,data):\n",
    "    X=np.array(data)\n",
    "    n=len(X)\n",
    "    list_1=np.arange(0,n)\n",
    "    pusat_klaster_index = random.choices(list_1, k=k)\n",
    "    pusat_klaster = X[pusat_klaster_index]\n",
    "    return pusat_klaster"
   ]
  },
  {
   "cell_type": "markdown",
   "id": "0cc05829",
   "metadata": {},
   "source": [
    "**3.  Menghiutng jarak setiap data ke pusat cluster**"
   ]
  },
  {
   "cell_type": "code",
   "execution_count": 114,
   "id": "b412b82f",
   "metadata": {},
   "outputs": [],
   "source": [
    "# Mendefinisikan fungsi jarak_euclidean\n",
    "def jarak_euclidean(x,y):\n",
    "    return np.sqrt(sum(pow(a-b,2) for a,b in zip(x,y)))"
   ]
  },
  {
   "cell_type": "code",
   "execution_count": 115,
   "id": "94391350",
   "metadata": {},
   "outputs": [],
   "source": [
    "def jarak_centroid_euclidean(data,pusat_klaster):\n",
    "    n=len(data)\n",
    "    k=np.array(pusat_klaster).shape[0]\n",
    "    jarak=[]\n",
    "    for i in range(n):\n",
    "        x = list(data.iloc[i,::])\n",
    "        jrk = [jarak_euclidean(x, pusat_klaster[j]) for j in range(k)]\n",
    "        jarak.append(jrk)\n",
    "    return jarak"
   ]
  },
  {
   "cell_type": "code",
   "execution_count": 116,
   "id": "c71016ef",
   "metadata": {},
   "outputs": [
    {
     "data": {
      "text/plain": [
       "[[0.0, 2.23606797749979],\n",
       " [2.23606797749979, 0.0],\n",
       " [9.219544457292887, 7.0710678118654755],\n",
       " [9.899494936611665, 7.810249675906654]]"
      ]
     },
     "execution_count": 116,
     "metadata": {},
     "output_type": "execute_result"
    }
   ],
   "source": [
    "jarak_centroid=jarak_centroid_euclidean(data,pusat_klaster)\n",
    "jarak_centroid"
   ]
  },
  {
   "cell_type": "markdown",
   "id": "dbfb2e23",
   "metadata": {},
   "source": [
    "**4.  Tetepkan klaster data berdasarkan pusat klaster terdekat**"
   ]
  },
  {
   "cell_type": "code",
   "execution_count": 117,
   "id": "2284b74f",
   "metadata": {},
   "outputs": [],
   "source": [
    "def menentukan_klaster(jarak_centroid):\n",
    "    n=len(jarak_centroid)\n",
    "    label_klaster=list()\n",
    "    for i in range(n):\n",
    "        max_val, idx = min((val, idx) for (idx, val) in enumerate(jarak_centroid[i]))\n",
    "        label_klaster.append(idx)\n",
    "    return label_klaster"
   ]
  },
  {
   "cell_type": "code",
   "execution_count": 118,
   "id": "0cbd54d8",
   "metadata": {},
   "outputs": [
    {
     "data": {
      "text/plain": [
       "[0, 1, 1, 1]"
      ]
     },
     "execution_count": 118,
     "metadata": {},
     "output_type": "execute_result"
    }
   ],
   "source": [
    "klaster=menentukan_klaster(jarak_centroid)\n",
    "klaster"
   ]
  },
  {
   "cell_type": "markdown",
   "id": "d135ef8d",
   "metadata": {},
   "source": [
    "**5.  Memperbarui pusat klaster dengan menghitung nilai rata-rata setiap cluster**"
   ]
  },
  {
   "cell_type": "code",
   "execution_count": 119,
   "id": "2f17a572",
   "metadata": {},
   "outputs": [],
   "source": [
    "def menghitung_pusat_klaster(data, klaster):\n",
    "    data['label']=klaster\n",
    "    pusat_barudf=data.groupby('label', as_index=False).mean()\n",
    "    pusat_barudf=pusat_barudf.iloc[::,1:]\n",
    "    pusat_klaster_baru=np.array(pusat_barudf)\n",
    "    return pusat_klaster_baru"
   ]
  },
  {
   "cell_type": "code",
   "execution_count": 120,
   "id": "6b979810",
   "metadata": {},
   "outputs": [
    {
     "data": {
      "text/plain": [
       "array([[1.        , 1.        ],\n",
       "       [5.66666667, 6.33333333]])"
      ]
     },
     "execution_count": 120,
     "metadata": {},
     "output_type": "execute_result"
    }
   ],
   "source": [
    "pusat_klaster_baru=menghitung_pusat_klaster(data, klaster)\n",
    "pusat_klaster_baru"
   ]
  },
  {
   "cell_type": "markdown",
   "id": "a7139cd5",
   "metadata": {},
   "source": [
    "**6.  Ulangi langkah 2-5 hingga kriteria henti dipenuhi**"
   ]
  },
  {
   "cell_type": "code",
   "execution_count": 121,
   "id": "fc7c4bd1",
   "metadata": {},
   "outputs": [],
   "source": [
    "def perubahan_pusat_klaster_euclidean(pusat_klaster_lama, pusat_klaster_baru):\n",
    "    perubahan = 0\n",
    "    for a,b in zip(pusat_klaster_lama, pusat_klaster_baru):\n",
    "        perubahan+=jarak_euclidean(a,b)\n",
    "    return perubahan"
   ]
  },
  {
   "cell_type": "code",
   "execution_count": 122,
   "id": "45521d73",
   "metadata": {},
   "outputs": [
    {
     "data": {
      "text/plain": [
       "4.955356249106169"
      ]
     },
     "execution_count": 122,
     "metadata": {},
     "output_type": "execute_result"
    }
   ],
   "source": [
    "perubahan_pusat_klaster_euclidean(pusat_klaster, pusat_klaster_baru)"
   ]
  },
  {
   "cell_type": "markdown",
   "id": "92514fe0",
   "metadata": {},
   "source": [
    "## Fungsi K Means Clustering"
   ]
  },
  {
   "cell_type": "code",
   "execution_count": 123,
   "id": "c79c8f06",
   "metadata": {},
   "outputs": [],
   "source": [
    "def plot_klaster(X, klaster, pusat_klaster):\n",
    "    df = pd.DataFrame(dict(x=X[:,0], y=X[:,1], label=klaster))\n",
    "    colors = {0:'blue', 1:'orange', 2:'green'}\n",
    "    fig, ax = plt.subplots(figsize=(8, 8))\n",
    "    grouped = df.groupby('label')\n",
    "    for key, group in grouped:\n",
    "        group.plot(ax=ax, kind='scatter', x='x', y='y', label=key, color=colors[key])\n",
    "    ax.scatter(pusat_klaster[:, 0], pusat_klaster[:, 1], marker='*', s=150, c='#ff2222')\n",
    "    plt.xlabel('X_1')\n",
    "    plt.ylabel('X_2')\n",
    "    plt.show()"
   ]
  },
  {
   "cell_type": "code",
   "execution_count": 124,
   "id": "dedc0465",
   "metadata": {},
   "outputs": [],
   "source": [
    "def k_means(k, df):\n",
    "    X=np.array(df)\n",
    "    pusat_klaster_lama = pusat_klaster_awal(k, X)\n",
    "    klaster = [0]*len(X)\n",
    "    epsilon = 100\n",
    "    iterasi = -1\n",
    "    while epsilon>.001:\n",
    "        jarak_ke_pusat_klaster=jarak_centroid_euclidean(df,pusat_klaster_lama)\n",
    "        klaster = menentukan_klaster(jarak_ke_pusat_klaster)\n",
    "        plot_klaster(X, klaster, pusat_klaster_lama)\n",
    "        pusat_klaster_baru = menghitung_pusat_klaster(df, klaster)\n",
    "        epsilon = perubahan_pusat_klaster_euclidean(pusat_klaster_lama, pusat_klaster_baru)\n",
    "        pusat_klaster_lama = pusat_klaster_baru\n",
    "        iterasi += 1\n",
    "    return iterasi, klaster, pusat_klaster_baru"
   ]
  },
  {
   "cell_type": "code",
   "execution_count": 125,
   "id": "3b63d7da",
   "metadata": {},
   "outputs": [
    {
     "data": {
      "image/png": "[encoded data removed]",
      "text/plain": [
       "<Figure size 576x576 with 1 Axes>"
      ]
     },
     "metadata": {
      "needs_background": "light"
     },
     "output_type": "display_data"
    },
    {
     "data": {
      "image/png": "[encoded data removed]",
      "text/plain": [
       "<Figure size 576x576 with 1 Axes>"
      ]
     },
     "metadata": {
      "needs_background": "light"
     },
     "output_type": "display_data"
    }
   ],
   "source": [
    "iterasi, klaster, pusat_klaster = k_means(2,data)"
   ]
  },
  {
   "cell_type": "code",
   "execution_count": 126,
   "id": "6021010c",
   "metadata": {},
   "outputs": [
    {
     "data": {
      "text/plain": [
       "array([[4.5, 5. ]])"
      ]
     },
     "execution_count": 126,
     "metadata": {},
     "output_type": "execute_result"
    }
   ],
   "source": [
    "pusat_klaster"
   ]
  },
  {
   "cell_type": "markdown",
   "id": "096146e2",
   "metadata": {},
   "source": [
    "## K-Means Clustering menggunakan Python Scikit Learn"
   ]
  },
  {
   "cell_type": "code",
   "execution_count": 127,
   "id": "b8e274a8",
   "metadata": {},
   "outputs": [
    {
     "data": {
      "text/plain": [
       "array([[1, 1],\n",
       "       [2, 3],\n",
       "       [7, 8],\n",
       "       [8, 8]], dtype=int64)"
      ]
     },
     "execution_count": 127,
     "metadata": {},
     "output_type": "execute_result"
    }
   ],
   "source": [
    "from sklearn.cluster import KMeans\n",
    "import pandas as pd\n",
    "import numpy as np\n",
    "\n",
    "data = pd.DataFrame({\"x1\": [1,2,7,8], \"x2\": [1,3,8,8]})\n",
    "\n",
    "X = np.array(data)\n",
    "X"
   ]
  },
  {
   "cell_type": "code",
   "execution_count": 128,
   "id": "408bcb6c",
   "metadata": {},
   "outputs": [
    {
     "data": {
      "text/plain": [
       "array([0, 0, 1, 1])"
      ]
     },
     "execution_count": 128,
     "metadata": {},
     "output_type": "execute_result"
    }
   ],
   "source": [
    "kmeans = KMeans(n_clusters=2, random_state=0).fit(X)\n",
    "kmeans.labels_"
   ]
  },
  {
   "cell_type": "code",
   "execution_count": 129,
   "id": "7d8493f7",
   "metadata": {},
   "outputs": [
    {
     "data": {
      "text/plain": [
       "array([0, 1])"
      ]
     },
     "execution_count": 129,
     "metadata": {},
     "output_type": "execute_result"
    }
   ],
   "source": [
    "kmeans.predict([[0,0], [12,3]])"
   ]
  },
  {
   "cell_type": "code",
   "execution_count": 130,
   "id": "dfd5f9b5",
   "metadata": {},
   "outputs": [
    {
     "data": {
      "text/plain": [
       "array([[1.5, 2. ],\n",
       "       [7.5, 8. ]])"
      ]
     },
     "execution_count": 130,
     "metadata": {},
     "output_type": "execute_result"
    }
   ],
   "source": [
    "kmeans.cluster_centers_"
   ]
  },
  {
   "cell_type": "markdown",
   "id": "577c883e",
   "metadata": {},
   "source": [
    "# Latihan\n",
    "\n",
    "Diberikan datset sebagai berikut"
   ]
  },
  {
   "cell_type": "code",
   "execution_count": 131,
   "id": "594cd3e1",
   "metadata": {},
   "outputs": [
    {
     "data": {
      "text/html": [
       "<div>\n",
       "<style scoped>\n",
       "    .dataframe tbody tr th:only-of-type {\n",
       "        vertical-align: middle;\n",
       "    }\n",
       "\n",
       "    .dataframe tbody tr th {\n",
       "        vertical-align: top;\n",
       "    }\n",
       "\n",
       "    .dataframe thead th {\n",
       "        text-align: right;\n",
       "    }\n",
       "</style>\n",
       "<table border=\"1\" class=\"dataframe\">\n",
       "  <thead>\n",
       "    <tr style=\"text-align: right;\">\n",
       "      <th></th>\n",
       "      <th>order_id</th>\n",
       "      <th>order_date</th>\n",
       "      <th>customer_id</th>\n",
       "      <th>segment</th>\n",
       "      <th>category</th>\n",
       "      <th>sub_category</th>\n",
       "      <th>sales</th>\n",
       "      <th>quantity</th>\n",
       "      <th>profit</th>\n",
       "    </tr>\n",
       "  </thead>\n",
       "  <tbody>\n",
       "    <tr>\n",
       "      <th>0</th>\n",
       "      <td>CA-2016-152156</td>\n",
       "      <td>11/8/2016</td>\n",
       "      <td>CG-12520</td>\n",
       "      <td>Consumer</td>\n",
       "      <td>Furniture</td>\n",
       "      <td>Bookcases</td>\n",
       "      <td>261.9600</td>\n",
       "      <td>2</td>\n",
       "      <td>41.9136</td>\n",
       "    </tr>\n",
       "    <tr>\n",
       "      <th>1</th>\n",
       "      <td>CA-2016-152156</td>\n",
       "      <td>11/8/2016</td>\n",
       "      <td>CG-12520</td>\n",
       "      <td>Consumer</td>\n",
       "      <td>Furniture</td>\n",
       "      <td>Chairs</td>\n",
       "      <td>731.9400</td>\n",
       "      <td>3</td>\n",
       "      <td>219.5820</td>\n",
       "    </tr>\n",
       "    <tr>\n",
       "      <th>2</th>\n",
       "      <td>CA-2016-138688</td>\n",
       "      <td>6/12/2016</td>\n",
       "      <td>DV-13045</td>\n",
       "      <td>Corporate</td>\n",
       "      <td>Office Supplies</td>\n",
       "      <td>Labels</td>\n",
       "      <td>14.6200</td>\n",
       "      <td>2</td>\n",
       "      <td>6.8714</td>\n",
       "    </tr>\n",
       "    <tr>\n",
       "      <th>3</th>\n",
       "      <td>US-2015-108966</td>\n",
       "      <td>10/11/2015</td>\n",
       "      <td>SO-20335</td>\n",
       "      <td>Consumer</td>\n",
       "      <td>Furniture</td>\n",
       "      <td>Tables</td>\n",
       "      <td>957.5775</td>\n",
       "      <td>5</td>\n",
       "      <td>-383.0310</td>\n",
       "    </tr>\n",
       "    <tr>\n",
       "      <th>4</th>\n",
       "      <td>US-2015-108966</td>\n",
       "      <td>10/11/2015</td>\n",
       "      <td>SO-20335</td>\n",
       "      <td>Consumer</td>\n",
       "      <td>Office Supplies</td>\n",
       "      <td>Storage</td>\n",
       "      <td>22.3680</td>\n",
       "      <td>2</td>\n",
       "      <td>2.5164</td>\n",
       "    </tr>\n",
       "  </tbody>\n",
       "</table>\n",
       "</div>"
      ],
      "text/plain": [
       "         order_id  order_date customer_id    segment         category  \\\n",
       "0  CA-2016-152156   11/8/2016    CG-12520   Consumer        Furniture   \n",
       "1  CA-2016-152156   11/8/2016    CG-12520   Consumer        Furniture   \n",
       "2  CA-2016-138688   6/12/2016    DV-13045  Corporate  Office Supplies   \n",
       "3  US-2015-108966  10/11/2015    SO-20335   Consumer        Furniture   \n",
       "4  US-2015-108966  10/11/2015    SO-20335   Consumer  Office Supplies   \n",
       "\n",
       "  sub_category     sales  quantity    profit  \n",
       "0    Bookcases  261.9600         2   41.9136  \n",
       "1       Chairs  731.9400         3  219.5820  \n",
       "2       Labels   14.6200         2    6.8714  \n",
       "3       Tables  957.5775         5 -383.0310  \n",
       "4      Storage   22.3680         2    2.5164  "
      ]
     },
     "execution_count": 131,
     "metadata": {},
     "output_type": "execute_result"
    }
   ],
   "source": [
    "import pandas as pd\n",
    "import numpy as np\n",
    "import matplotlib.pyplot as plt\n",
    "\n",
    "data = pd.read_csv('Super-Store-Dataset.csv')\n",
    "data.head()"
   ]
  },
  {
   "cell_type": "code",
   "execution_count": 132,
   "id": "3e76f4fd",
   "metadata": {},
   "outputs": [
    {
     "data": {
      "text/html": [
       "<div>\n",
       "<style scoped>\n",
       "    .dataframe tbody tr th:only-of-type {\n",
       "        vertical-align: middle;\n",
       "    }\n",
       "\n",
       "    .dataframe tbody tr th {\n",
       "        vertical-align: top;\n",
       "    }\n",
       "\n",
       "    .dataframe thead th {\n",
       "        text-align: right;\n",
       "    }\n",
       "</style>\n",
       "<table border=\"1\" class=\"dataframe\">\n",
       "  <thead>\n",
       "    <tr style=\"text-align: right;\">\n",
       "      <th></th>\n",
       "      <th>sales</th>\n",
       "      <th>quantity</th>\n",
       "      <th>profit</th>\n",
       "    </tr>\n",
       "  </thead>\n",
       "  <tbody>\n",
       "    <tr>\n",
       "      <th>0</th>\n",
       "      <td>261.9600</td>\n",
       "      <td>2</td>\n",
       "      <td>41.9136</td>\n",
       "    </tr>\n",
       "    <tr>\n",
       "      <th>1</th>\n",
       "      <td>731.9400</td>\n",
       "      <td>3</td>\n",
       "      <td>219.5820</td>\n",
       "    </tr>\n",
       "    <tr>\n",
       "      <th>2</th>\n",
       "      <td>14.6200</td>\n",
       "      <td>2</td>\n",
       "      <td>6.8714</td>\n",
       "    </tr>\n",
       "    <tr>\n",
       "      <th>3</th>\n",
       "      <td>957.5775</td>\n",
       "      <td>5</td>\n",
       "      <td>-383.0310</td>\n",
       "    </tr>\n",
       "    <tr>\n",
       "      <th>4</th>\n",
       "      <td>22.3680</td>\n",
       "      <td>2</td>\n",
       "      <td>2.5164</td>\n",
       "    </tr>\n",
       "    <tr>\n",
       "      <th>...</th>\n",
       "      <td>...</td>\n",
       "      <td>...</td>\n",
       "      <td>...</td>\n",
       "    </tr>\n",
       "    <tr>\n",
       "      <th>9983</th>\n",
       "      <td>25.2480</td>\n",
       "      <td>3</td>\n",
       "      <td>4.1028</td>\n",
       "    </tr>\n",
       "    <tr>\n",
       "      <th>9984</th>\n",
       "      <td>91.9600</td>\n",
       "      <td>2</td>\n",
       "      <td>15.6332</td>\n",
       "    </tr>\n",
       "    <tr>\n",
       "      <th>9985</th>\n",
       "      <td>258.5760</td>\n",
       "      <td>2</td>\n",
       "      <td>19.3932</td>\n",
       "    </tr>\n",
       "    <tr>\n",
       "      <th>9986</th>\n",
       "      <td>29.6000</td>\n",
       "      <td>4</td>\n",
       "      <td>13.3200</td>\n",
       "    </tr>\n",
       "    <tr>\n",
       "      <th>9987</th>\n",
       "      <td>243.1600</td>\n",
       "      <td>2</td>\n",
       "      <td>72.9480</td>\n",
       "    </tr>\n",
       "  </tbody>\n",
       "</table>\n",
       "<p>9988 rows × 3 columns</p>\n",
       "</div>"
      ],
      "text/plain": [
       "         sales  quantity    profit\n",
       "0     261.9600         2   41.9136\n",
       "1     731.9400         3  219.5820\n",
       "2      14.6200         2    6.8714\n",
       "3     957.5775         5 -383.0310\n",
       "4      22.3680         2    2.5164\n",
       "...        ...       ...       ...\n",
       "9983   25.2480         3    4.1028\n",
       "9984   91.9600         2   15.6332\n",
       "9985  258.5760         2   19.3932\n",
       "9986   29.6000         4   13.3200\n",
       "9987  243.1600         2   72.9480\n",
       "\n",
       "[9988 rows x 3 columns]"
      ]
     },
     "execution_count": 132,
     "metadata": {},
     "output_type": "execute_result"
    }
   ],
   "source": [
    "data_used=data[[\"sales\", \"quantity\", \"profit\"]]\n",
    "data_used"
   ]
  },
  {
   "cell_type": "markdown",
   "id": "8acd5748",
   "metadata": {},
   "source": [
    "**Untuk mengetahui jumlah k terbaik dalam Klaster K-Means akan digunakan Metode Elbow** "
   ]
  },
  {
   "cell_type": "code",
   "execution_count": 133,
   "id": "8c590212",
   "metadata": {},
   "outputs": [],
   "source": [
    "from sklearn.cluster import KMeans"
   ]
  },
  {
   "cell_type": "code",
   "execution_count": 134,
   "id": "d883aca0",
   "metadata": {},
   "outputs": [],
   "source": [
    "distortions = []\n",
    "K = range(1,10)\n",
    "for k in K:\n",
    "    kmeanModel = KMeans(n_clusters=k)\n",
    "    kmeanModel.fit(data_used)\n",
    "    distortions.append(kmeanModel.inertia_)"
   ]
  },
  {
   "cell_type": "code",
   "execution_count": 135,
   "id": "087e4b95",
   "metadata": {},
   "outputs": [
    {
     "data": {
      "image/png": "[encoded data removed]",
      "text/plain": [
       "<Figure size 1152x576 with 1 Axes>"
      ]
     },
     "metadata": {
      "needs_background": "light"
     },
     "output_type": "display_data"
    }
   ],
   "source": [
    "plt.figure(figsize=(16,8))\n",
    "plt.plot(K, distortions, 'bx-')\n",
    "plt.xlabel('k')\n",
    "plt.ylabel('Distortion')\n",
    "plt.title('Metode Elbow untuk menunjukkan k terbaik')\n",
    "plt.show()"
   ]
  },
  {
   "cell_type": "markdown",
   "id": "5a11aede",
   "metadata": {},
   "source": [
    "Metode Elbow merupakan suatu metode yang digunakan untuk menghasilkan informasi dalam menentukan jumlah cluster terbaik dengan cara melihat persentase hasil perbandingan antara jumlah cluster yang akan membentuk siku pada suatu titik. Kesimpulan dari elbow tersebut menunjukkan bahwa 4 merupakan jumlah klaster terbaik."
   ]
  },
  {
   "cell_type": "code",
   "execution_count": 151,
   "id": "29decaaf",
   "metadata": {},
   "outputs": [],
   "source": [
    "def k_means(k, df):\n",
    "    X=np.array(df)\n",
    "    pusat_klaster_lama = pusat_klaster_awal(k, X)\n",
    "    klaster = [0]*len(X)\n",
    "    epsilon = 100\n",
    "    iterasi = -1\n",
    "    while epsilon>.001:\n",
    "        jarak_ke_pusat_klaster=jarak_centroid_euclidean(df,pusat_klaster_lama)\n",
    "        klaster = menentukan_klaster(jarak_ke_pusat_klaster)\n",
    "        pusat_klaster_baru = menghitung_pusat_klaster(df, klaster)\n",
    "        epsilon = perubahan_pusat_klaster_euclidean(pusat_klaster_lama, pusat_klaster_baru)\n",
    "        pusat_klaster_lama = pusat_klaster_baru\n",
    "        iterasi += 1\n",
    "    return iterasi, klaster, pusat_klaster_baru"
   ]
  },
  {
   "cell_type": "code",
   "execution_count": 152,
   "id": "50c0b7f8",
   "metadata": {},
   "outputs": [
    {
     "name": "stderr",
     "output_type": "stream",
     "text": [
      "<ipython-input-119-151b3d05ddf1>:2: SettingWithCopyWarning: \n",
      "A value is trying to be set on a copy of a slice from a DataFrame.\n",
      "Try using .loc[row_indexer,col_indexer] = value instead\n",
      "\n",
      "See the caveats in the documentation: https://pandas.pydata.org/pandas-docs/stable/user_guide/indexing.html#returning-a-view-versus-a-copy\n",
      "  data['label']=klaster\n"
     ]
    }
   ],
   "source": [
    "iterasi, klaster, pusat_klaster = k_means(4, data_used)"
   ]
  },
  {
   "cell_type": "code",
   "execution_count": 153,
   "id": "ba4a577c",
   "metadata": {},
   "outputs": [
    {
     "data": {
      "text/html": [
       "<div>\n",
       "<style scoped>\n",
       "    .dataframe tbody tr th:only-of-type {\n",
       "        vertical-align: middle;\n",
       "    }\n",
       "\n",
       "    .dataframe tbody tr th {\n",
       "        vertical-align: top;\n",
       "    }\n",
       "\n",
       "    .dataframe thead th {\n",
       "        text-align: right;\n",
       "    }\n",
       "</style>\n",
       "<table border=\"1\" class=\"dataframe\">\n",
       "  <thead>\n",
       "    <tr style=\"text-align: right;\">\n",
       "      <th></th>\n",
       "      <th>sales</th>\n",
       "      <th>quantity</th>\n",
       "      <th>profit</th>\n",
       "      <th>label</th>\n",
       "    </tr>\n",
       "  </thead>\n",
       "  <tbody>\n",
       "    <tr>\n",
       "      <th>0</th>\n",
       "      <td>261.9600</td>\n",
       "      <td>2</td>\n",
       "      <td>41.9136</td>\n",
       "      <td>1</td>\n",
       "    </tr>\n",
       "    <tr>\n",
       "      <th>1</th>\n",
       "      <td>731.9400</td>\n",
       "      <td>3</td>\n",
       "      <td>219.5820</td>\n",
       "      <td>2</td>\n",
       "    </tr>\n",
       "    <tr>\n",
       "      <th>2</th>\n",
       "      <td>14.6200</td>\n",
       "      <td>2</td>\n",
       "      <td>6.8714</td>\n",
       "      <td>1</td>\n",
       "    </tr>\n",
       "    <tr>\n",
       "      <th>3</th>\n",
       "      <td>957.5775</td>\n",
       "      <td>5</td>\n",
       "      <td>-383.0310</td>\n",
       "      <td>2</td>\n",
       "    </tr>\n",
       "    <tr>\n",
       "      <th>4</th>\n",
       "      <td>22.3680</td>\n",
       "      <td>2</td>\n",
       "      <td>2.5164</td>\n",
       "      <td>1</td>\n",
       "    </tr>\n",
       "    <tr>\n",
       "      <th>...</th>\n",
       "      <td>...</td>\n",
       "      <td>...</td>\n",
       "      <td>...</td>\n",
       "      <td>...</td>\n",
       "    </tr>\n",
       "    <tr>\n",
       "      <th>9983</th>\n",
       "      <td>25.2480</td>\n",
       "      <td>3</td>\n",
       "      <td>4.1028</td>\n",
       "      <td>1</td>\n",
       "    </tr>\n",
       "    <tr>\n",
       "      <th>9984</th>\n",
       "      <td>91.9600</td>\n",
       "      <td>2</td>\n",
       "      <td>15.6332</td>\n",
       "      <td>1</td>\n",
       "    </tr>\n",
       "    <tr>\n",
       "      <th>9985</th>\n",
       "      <td>258.5760</td>\n",
       "      <td>2</td>\n",
       "      <td>19.3932</td>\n",
       "      <td>1</td>\n",
       "    </tr>\n",
       "    <tr>\n",
       "      <th>9986</th>\n",
       "      <td>29.6000</td>\n",
       "      <td>4</td>\n",
       "      <td>13.3200</td>\n",
       "      <td>1</td>\n",
       "    </tr>\n",
       "    <tr>\n",
       "      <th>9987</th>\n",
       "      <td>243.1600</td>\n",
       "      <td>2</td>\n",
       "      <td>72.9480</td>\n",
       "      <td>1</td>\n",
       "    </tr>\n",
       "  </tbody>\n",
       "</table>\n",
       "<p>9988 rows × 4 columns</p>\n",
       "</div>"
      ],
      "text/plain": [
       "         sales  quantity    profit  label\n",
       "0     261.9600         2   41.9136      1\n",
       "1     731.9400         3  219.5820      2\n",
       "2      14.6200         2    6.8714      1\n",
       "3     957.5775         5 -383.0310      2\n",
       "4      22.3680         2    2.5164      1\n",
       "...        ...       ...       ...    ...\n",
       "9983   25.2480         3    4.1028      1\n",
       "9984   91.9600         2   15.6332      1\n",
       "9985  258.5760         2   19.3932      1\n",
       "9986   29.6000         4   13.3200      1\n",
       "9987  243.1600         2   72.9480      1\n",
       "\n",
       "[9988 rows x 4 columns]"
      ]
     },
     "execution_count": 153,
     "metadata": {},
     "output_type": "execute_result"
    }
   ],
   "source": [
    "data_used_stlhklaster = data_used\n",
    "data_used_stlhklaster"
   ]
  },
  {
   "cell_type": "code",
   "execution_count": 154,
   "id": "f5ab8d5e",
   "metadata": {},
   "outputs": [],
   "source": [
    "data_used_stlhklaster.to_csv('klasterisasi_data_retail.csv', index=False)"
   ]
  },
  {
   "cell_type": "code",
   "execution_count": 155,
   "id": "b43af35b",
   "metadata": {},
   "outputs": [
    {
     "name": "stdout",
     "output_type": "stream",
     "text": [
      "<class 'pandas.core.frame.DataFrame'>\n",
      "RangeIndex: 9988 entries, 0 to 9987\n",
      "Data columns (total 4 columns):\n",
      " #   Column    Non-Null Count  Dtype  \n",
      "---  ------    --------------  -----  \n",
      " 0   sales     9988 non-null   float64\n",
      " 1   quantity  9988 non-null   int64  \n",
      " 2   profit    9988 non-null   float64\n",
      " 3   label     9988 non-null   int64  \n",
      "dtypes: float64(2), int64(2)\n",
      "memory usage: 312.2 KB\n"
     ]
    }
   ],
   "source": [
    "data_used_stlhklaster.info()"
   ]
  },
  {
   "cell_type": "code",
   "execution_count": null,
   "id": "4e476706",
   "metadata": {},
   "outputs": [],
   "source": []
  }
 ],
 "metadata": {
  "kernelspec": {
   "display_name": "Python 3",
   "language": "python",
   "name": "python3"
  },
  "language_info": {
   "codemirror_mode": {
    "name": "ipython",
    "version": 3
   },
   "file_extension": ".py",
   "mimetype": "text/x-python",
   "name": "python",
   "nbconvert_exporter": "python",
   "pygments_lexer": "ipython3",
   "version": "3.8.8"
  }
 },
 "nbformat": 4,
 "nbformat_minor": 5
}
