{
 "cells": [
  {
   "cell_type": "markdown",
   "id": "f8e0a6f6",
   "metadata": {},
   "source": [
    "## Pembuka \n",
    "\n",
    "Bismillahirrahmanirrahim\n",
    "\n",
    "Assalamu'alaikum warahmatullahi wabarakatuh\n",
    "\n",
    "Puji syukur kehadirat Allah Subhana Wata'ala atas limpahan Rahmat dan Hidayah-Nya kepada kita semua. Sholawat serta salam senantiasa tercurah limpahkan kepada baginda Muhammad Rasulullah Salallahualaihiwassalam.\n",
    "\n",
    "Halo para **Pejuang Data**. Selamat berjumpa di pertemuan pertama Program Training **Algoritma Machine Learning** Kelas Mahir.\n",
    "\n",
    "Pada petemuan ini kamu akan belajar:\n",
    "\n",
    "1.   Algoritma Naive Bayes\n",
    "2.   Contoh Perhitungan Manual Algoritma Naive Bayes\n",
    "3.   Naive Bayes Python From Scratch"
   ]
  },
  {
   "cell_type": "markdown",
   "id": "afba8e45",
   "metadata": {},
   "source": [
    "## Import Modul"
   ]
  },
  {
   "cell_type": "code",
   "execution_count": 36,
   "id": "cf566eb0",
   "metadata": {},
   "outputs": [],
   "source": [
    "import pandas as pd\n",
    "import numpy as np\n",
    "import matplotlib.pyplot as plt\n",
    "import seaborn as sns\n",
    "sns.set_style(\"darkgrid\")"
   ]
  },
  {
   "cell_type": "markdown",
   "id": "cf46e378",
   "metadata": {},
   "source": [
    "## Model Klasifikasi Naive Bayes\n",
    "\n",
    "Model klasifikasi Naive Bayes merupakan model klasifikasi dengan dasar gagasan Teorema Bayes dengan asumsi semua variabel prediktornya (X) adalah saling independen. Model Naive Bayes mudah untuk dibangun. Model ini tidak memiliki estimasi parameter iteratif yang kompleks yang membuatnya cocok untuk data yang sangat besar. Terlepas dari kesederhanaannya, model klasifikasi ini sering kali bekerja dengan sangat baik dan banyak digunakan karena sering mengungguli metode klasifikasi yang lebih canggih. Contohnya pada klasifikasi sentimen pada dataset teks, klasifikasi sentimen pada dataset teks, klasifikasi email spam, dan klasifikasi dokumen."
   ]
  },
  {
   "attachments": {
    "download.jpg": {
     "image/jpeg": "[encoded data removed]"
    }
   },
   "cell_type": "markdown",
   "id": "7e5ddcfd",
   "metadata": {},
   "source": [
    "## Algoritma Naive Bayes\n",
    "\n",
    "Teorema Bayes menyajikan cara untuk menghitung probabilitas bersyarat (posterior) $P(Y=y|X=(x_1,x_2,...,x_n))$ dari $P(Y=y),P(X=(x_1,x_2,..,x_n))$ dan $P(X=(x_1,x_2,...,x_n)|Y=y)$. Model klasifikasi Naive Bayes mengasumsikan bahwa pengaruh suatu variabel prediktor $x$ pada kelas tertentu $c$ tidak bergantung pada nilai-nilai prediktornya lainnya. Asumsi ini disebut sebagai _class contional independence_\n",
    "\n",
    "![download.jpg](attachment:download.jpg)\n",
    "\n",
    "1.    $P(Y|X)$ adalah probabilitas bersyarat (posterior) dari kelas (target) dengan suatu prediktor yang diketahui (atribut)\n",
    "2.    $P(Y)$ adalah probabilitas prior dari kelas\n",
    "3.    $P(X|Y)$ adalah likelihood yang merupakan probabilitas prediktor dengan kelas yang diketahui\n",
    "4.    $P(X)$ adalah probabilitas prior dari prediktor (atribut)"
   ]
  },
  {
   "cell_type": "markdown",
   "id": "c3997c53",
   "metadata": {},
   "source": [
    "## Penghitungan Manual Metode Klasifikasi Naive Bayes Data Categorical\n",
    "\n",
    "Misal kita memiliki dataset sebagai berikut:"
   ]
  },
  {
   "cell_type": "code",
   "execution_count": 37,
   "id": "520c99f3",
   "metadata": {},
   "outputs": [
    {
     "data": {
      "text/html": [
       "<div>\n",
       "<style scoped>\n",
       "    .dataframe tbody tr th:only-of-type {\n",
       "        vertical-align: middle;\n",
       "    }\n",
       "\n",
       "    .dataframe tbody tr th {\n",
       "        vertical-align: top;\n",
       "    }\n",
       "\n",
       "    .dataframe thead th {\n",
       "        text-align: right;\n",
       "    }\n",
       "</style>\n",
       "<table border=\"1\" class=\"dataframe\">\n",
       "  <thead>\n",
       "    <tr style=\"text-align: right;\">\n",
       "      <th></th>\n",
       "      <th>x_1</th>\n",
       "      <th>x_2</th>\n",
       "      <th>y</th>\n",
       "    </tr>\n",
       "  </thead>\n",
       "  <tbody>\n",
       "    <tr>\n",
       "      <th>0</th>\n",
       "      <td>0</td>\n",
       "      <td>0</td>\n",
       "      <td>0</td>\n",
       "    </tr>\n",
       "    <tr>\n",
       "      <th>1</th>\n",
       "      <td>0</td>\n",
       "      <td>1</td>\n",
       "      <td>1</td>\n",
       "    </tr>\n",
       "    <tr>\n",
       "      <th>2</th>\n",
       "      <td>1</td>\n",
       "      <td>2</td>\n",
       "      <td>1</td>\n",
       "    </tr>\n",
       "    <tr>\n",
       "      <th>3</th>\n",
       "      <td>0</td>\n",
       "      <td>0</td>\n",
       "      <td>1</td>\n",
       "    </tr>\n",
       "    <tr>\n",
       "      <th>4</th>\n",
       "      <td>2</td>\n",
       "      <td>2</td>\n",
       "      <td>0</td>\n",
       "    </tr>\n",
       "    <tr>\n",
       "      <th>5</th>\n",
       "      <td>1</td>\n",
       "      <td>1</td>\n",
       "      <td>0</td>\n",
       "    </tr>\n",
       "    <tr>\n",
       "      <th>6</th>\n",
       "      <td>0</td>\n",
       "      <td>2</td>\n",
       "      <td>1</td>\n",
       "    </tr>\n",
       "    <tr>\n",
       "      <th>7</th>\n",
       "      <td>2</td>\n",
       "      <td>0</td>\n",
       "      <td>0</td>\n",
       "    </tr>\n",
       "    <tr>\n",
       "      <th>8</th>\n",
       "      <td>2</td>\n",
       "      <td>1</td>\n",
       "      <td>0</td>\n",
       "    </tr>\n",
       "    <tr>\n",
       "      <th>9</th>\n",
       "      <td>1</td>\n",
       "      <td>0</td>\n",
       "      <td>0</td>\n",
       "    </tr>\n",
       "  </tbody>\n",
       "</table>\n",
       "</div>"
      ],
      "text/plain": [
       "   x_1  x_2  y\n",
       "0    0    0  0\n",
       "1    0    1  1\n",
       "2    1    2  1\n",
       "3    0    0  1\n",
       "4    2    2  0\n",
       "5    1    1  0\n",
       "6    0    2  1\n",
       "7    2    0  0\n",
       "8    2    1  0\n",
       "9    1    0  0"
      ]
     },
     "execution_count": 37,
     "metadata": {},
     "output_type": "execute_result"
    }
   ],
   "source": [
    "df = pd.DataFrame({'x_1':[0,0,1,0,2,1,0,2,2,1],\n",
    "                  'x_2':[0,1,2,0,2,1,2,0,1,0],\n",
    "                  'y':[0,1,1,1,0,0,1,0,0,0]})\n",
    "df"
   ]
  },
  {
   "cell_type": "markdown",
   "id": "f6d102f9",
   "metadata": {},
   "source": [
    "Mari kita akan menghitung $P(Y=0|X=(0,2))$ dan $P(Y=1|X=(0,2))$\n",
    "\n",
    "Langkah-langkah adalah sebagai berikut:\n",
    "1.    Menghitung probabilitas prior\n",
    "2.    Menghitung probabilitas Likelihood\n",
    "3.    Mengalikan probabilitas likelihood dan probabilitas prior\n",
    "\n",
    "Berikut contohnya\n",
    "1)    Menghitung probabilitas prior:\n",
    "$$\n",
    "P(Y=0)=\\frac{Jumlah Y = 0}{Jumlah Y = 0 + Jumlah Y = 1} = \\frac{6}{10}\\\\\n",
    "P(Y=1)=\\frac{Jumlah Y = 1}{Jumlah Y = 0 + Jumlah Y = 1} = \\frac{4}{10}\n",
    "$$\n",
    "\n",
    "2)    Menghitung probabilitas prior:\n",
    "$$\n",
    "P(X=(0,2)|Y=0)=\\frac{Jumlah X = (0,2)}{Jumlah Y = 0} = \\frac{0}{6}=6\\\\\n",
    "P(X=(0,2)|Y=1)=\\frac{Jumlah X = (0,2)}{Jumlah Y = 1} = \\frac{1}{10}\n",
    "$$\n",
    "\n",
    "_Cara lain adalah dengan menggunakan teorema Bayes_\n",
    "\n",
    "$$\n",
    "P(X=(0,2)|Y=0)=P(X_1=0|Y=0)*P(X_2=2|Y=1)=\\frac{1}{6}*\\frac{1}{6} = \\frac{1}{36}\\\\\n",
    "P(X=(0,2)|Y=1)=P(X_1=0|Y=1)*P(X_2=2|Y=1)=\\frac{3}{4}*\\frac{2}{4} = \\frac{6}{16}\\\\\n",
    "$$\n",
    "\n",
    "3)    Mengalikan probabilitas likelihood dan probabilitas prior:\n",
    "$$\n",
    "P(Y=0)|X=(0,2))==>\\frac{6}{10}*\\frac{6}{36} = \\frac{24}{160}=0.10\\\\\n",
    "P(Y=1|X=(0,2))=\\frac{4}{10}*\\frac{6}{16} = \\frac{24}{160}=0.15\n",
    "$$\n",
    "\n",
    "Dari hasil terakhir di atas diperoleh bahwa probabilitas muncul kelas $y=1$ dengan syarat $x=(0,2)$ adalah lebih tinggi maka untuk input $x=(0,2)$ hasil klasifikasi adalah $y=1$"
   ]
  },
  {
   "cell_type": "markdown",
   "id": "ca98fa28",
   "metadata": {},
   "source": [
    "## Implementasi pada Python\n",
    "\n",
    "**Import Library**"
   ]
  },
  {
   "cell_type": "code",
   "execution_count": 38,
   "id": "15a462e2",
   "metadata": {},
   "outputs": [],
   "source": [
    "import pandas as pd\n",
    "import numpy as np"
   ]
  },
  {
   "cell_type": "code",
   "execution_count": 39,
   "id": "a961a105",
   "metadata": {},
   "outputs": [
    {
     "data": {
      "text/html": [
       "<div>\n",
       "<style scoped>\n",
       "    .dataframe tbody tr th:only-of-type {\n",
       "        vertical-align: middle;\n",
       "    }\n",
       "\n",
       "    .dataframe tbody tr th {\n",
       "        vertical-align: top;\n",
       "    }\n",
       "\n",
       "    .dataframe thead th {\n",
       "        text-align: right;\n",
       "    }\n",
       "</style>\n",
       "<table border=\"1\" class=\"dataframe\">\n",
       "  <thead>\n",
       "    <tr style=\"text-align: right;\">\n",
       "      <th></th>\n",
       "      <th>x_1</th>\n",
       "      <th>x_2</th>\n",
       "      <th>y</th>\n",
       "    </tr>\n",
       "  </thead>\n",
       "  <tbody>\n",
       "    <tr>\n",
       "      <th>0</th>\n",
       "      <td>0</td>\n",
       "      <td>0</td>\n",
       "      <td>0</td>\n",
       "    </tr>\n",
       "    <tr>\n",
       "      <th>1</th>\n",
       "      <td>0</td>\n",
       "      <td>1</td>\n",
       "      <td>1</td>\n",
       "    </tr>\n",
       "    <tr>\n",
       "      <th>2</th>\n",
       "      <td>1</td>\n",
       "      <td>2</td>\n",
       "      <td>1</td>\n",
       "    </tr>\n",
       "    <tr>\n",
       "      <th>3</th>\n",
       "      <td>0</td>\n",
       "      <td>0</td>\n",
       "      <td>1</td>\n",
       "    </tr>\n",
       "    <tr>\n",
       "      <th>4</th>\n",
       "      <td>2</td>\n",
       "      <td>2</td>\n",
       "      <td>0</td>\n",
       "    </tr>\n",
       "    <tr>\n",
       "      <th>5</th>\n",
       "      <td>1</td>\n",
       "      <td>1</td>\n",
       "      <td>0</td>\n",
       "    </tr>\n",
       "    <tr>\n",
       "      <th>6</th>\n",
       "      <td>0</td>\n",
       "      <td>2</td>\n",
       "      <td>1</td>\n",
       "    </tr>\n",
       "    <tr>\n",
       "      <th>7</th>\n",
       "      <td>2</td>\n",
       "      <td>0</td>\n",
       "      <td>0</td>\n",
       "    </tr>\n",
       "    <tr>\n",
       "      <th>8</th>\n",
       "      <td>2</td>\n",
       "      <td>1</td>\n",
       "      <td>0</td>\n",
       "    </tr>\n",
       "    <tr>\n",
       "      <th>9</th>\n",
       "      <td>1</td>\n",
       "      <td>0</td>\n",
       "      <td>0</td>\n",
       "    </tr>\n",
       "  </tbody>\n",
       "</table>\n",
       "</div>"
      ],
      "text/plain": [
       "   x_1  x_2  y\n",
       "0    0    0  0\n",
       "1    0    1  1\n",
       "2    1    2  1\n",
       "3    0    0  1\n",
       "4    2    2  0\n",
       "5    1    1  0\n",
       "6    0    2  1\n",
       "7    2    0  0\n",
       "8    2    1  0\n",
       "9    1    0  0"
      ]
     },
     "execution_count": 39,
     "metadata": {},
     "output_type": "execute_result"
    }
   ],
   "source": [
    "# Data Frame Input\n",
    "\n",
    "df = pd.DataFrame({'x_1':[0,0,1,0,2,1,0,2,2,1],\n",
    "                  'x_2':[0,1,2,0,2,1,2,0,1,0],\n",
    "                  'y':[0,1,1,1,0,0,1,0,0,0]})\n",
    "df"
   ]
  },
  {
   "cell_type": "code",
   "execution_count": 40,
   "id": "fd5ad9b5",
   "metadata": {},
   "outputs": [],
   "source": [
    "# Naive Bayes untuk Data Categorial\n",
    "\n",
    "def prob_prior(df,Y):\n",
    "    label_kelas = sorted(list(df[Y].unique()))\n",
    "    prior=[]\n",
    "    for i in label_kelas:\n",
    "        prior.append(len(df[df[Y]==i])/len(df))\n",
    "    return prior"
   ]
  },
  {
   "cell_type": "code",
   "execution_count": 41,
   "id": "16b8923d",
   "metadata": {},
   "outputs": [],
   "source": [
    "def likelihood_categorical(df, nama_var, nilai_var, Y, label):\n",
    "    feat = list(df.columns)\n",
    "    df=df[df[Y]==label]\n",
    "    p_x_dgsyrt_y = len(df[df[nama_var]==nilai_var])/len(df)\n",
    "    return p_x_dgsyrt_y"
   ]
  },
  {
   "cell_type": "code",
   "execution_count": 42,
   "id": "a725c090",
   "metadata": {},
   "outputs": [],
   "source": [
    "def naive_bayes_categorical(df,X,Y):\n",
    "    # mengambil nama kolom\n",
    "    nama_kolom = list(df.columns)[:-1]\n",
    "    \n",
    "    # menghitung prob prior\n",
    "    prior = prob_prior(df,Y)\n",
    "    \n",
    "    Y_pred = []\n",
    "    # Looping pada setiap baris data\n",
    "    for x in X:\n",
    "        # Menghitung likelihood \n",
    "        labels=sorted(list(df[Y].unique()))\n",
    "        likelihood = [1]*len(labels)\n",
    "        for j in range(len(labels)):\n",
    "            for i in range(len(nama_kolom)):\n",
    "                likelihood[j] *= likelihood_categorical(df, nama_kolom[i], x[i], Y, labels[i])\n",
    "                \n",
    "        #menghitung posterior probability\n",
    "        post_prob = [1]*len(labels)\n",
    "        for j in range(len(labels)):\n",
    "            post_prob[j]=likelihood[j]*prior[j]\n",
    "        \n",
    "        Y_pred.append(np.argmax(post_prob))\n",
    "    \n",
    "    return np.array(Y_pred)"
   ]
  },
  {
   "cell_type": "code",
   "execution_count": 43,
   "id": "ced9378d",
   "metadata": {},
   "outputs": [],
   "source": [
    "X = df.iloc[:,:-1].values\n",
    "Y = df.iloc[:,-1].values\n",
    "Y_pred = naive_bayes_categorical(df, X=X, Y=\"y\")"
   ]
  },
  {
   "cell_type": "code",
   "execution_count": 44,
   "id": "0ad3edb7",
   "metadata": {},
   "outputs": [
    {
     "data": {
      "text/plain": [
       "array([[0, 0],\n",
       "       [0, 1],\n",
       "       [1, 2],\n",
       "       [0, 0],\n",
       "       [2, 2],\n",
       "       [1, 1],\n",
       "       [0, 2],\n",
       "       [2, 0],\n",
       "       [2, 1],\n",
       "       [1, 0]], dtype=int64)"
      ]
     },
     "execution_count": 44,
     "metadata": {},
     "output_type": "execute_result"
    }
   ],
   "source": [
    "X"
   ]
  },
  {
   "cell_type": "code",
   "execution_count": 45,
   "id": "b3edf109",
   "metadata": {},
   "outputs": [
    {
     "data": {
      "text/plain": [
       "array([0, 0, 0, 0, 0, 0, 0, 0, 0, 0], dtype=int64)"
      ]
     },
     "execution_count": 45,
     "metadata": {},
     "output_type": "execute_result"
    }
   ],
   "source": [
    "Y_pred"
   ]
  },
  {
   "cell_type": "code",
   "execution_count": 46,
   "id": "9916c2a7",
   "metadata": {},
   "outputs": [
    {
     "data": {
      "text/plain": [
       "array([0, 1, 1, 1, 0, 0, 1, 0, 0, 0], dtype=int64)"
      ]
     },
     "execution_count": 46,
     "metadata": {},
     "output_type": "execute_result"
    }
   ],
   "source": [
    "Y"
   ]
  },
  {
   "cell_type": "markdown",
   "id": "04ced347",
   "metadata": {},
   "source": [
    "## Metode Klasifikasi Naive Bayes Data Numerik\n",
    "\n",
    "Misal kita memiliki dataset sebagai berikut:"
   ]
  },
  {
   "cell_type": "code",
   "execution_count": 47,
   "id": "219688e9",
   "metadata": {},
   "outputs": [
    {
     "data": {
      "text/html": [
       "<div>\n",
       "<style scoped>\n",
       "    .dataframe tbody tr th:only-of-type {\n",
       "        vertical-align: middle;\n",
       "    }\n",
       "\n",
       "    .dataframe tbody tr th {\n",
       "        vertical-align: top;\n",
       "    }\n",
       "\n",
       "    .dataframe thead th {\n",
       "        text-align: right;\n",
       "    }\n",
       "</style>\n",
       "<table border=\"1\" class=\"dataframe\">\n",
       "  <thead>\n",
       "    <tr style=\"text-align: right;\">\n",
       "      <th></th>\n",
       "      <th>mean_radius</th>\n",
       "      <th>mean_texture</th>\n",
       "      <th>mean_perimeter</th>\n",
       "      <th>mean_area</th>\n",
       "      <th>mean_smoothness</th>\n",
       "      <th>diagnosis</th>\n",
       "    </tr>\n",
       "  </thead>\n",
       "  <tbody>\n",
       "    <tr>\n",
       "      <th>0</th>\n",
       "      <td>17.99</td>\n",
       "      <td>10.38</td>\n",
       "      <td>122.80</td>\n",
       "      <td>1001.0</td>\n",
       "      <td>0.11840</td>\n",
       "      <td>0</td>\n",
       "    </tr>\n",
       "    <tr>\n",
       "      <th>1</th>\n",
       "      <td>20.57</td>\n",
       "      <td>17.77</td>\n",
       "      <td>132.90</td>\n",
       "      <td>1326.0</td>\n",
       "      <td>0.08474</td>\n",
       "      <td>0</td>\n",
       "    </tr>\n",
       "    <tr>\n",
       "      <th>2</th>\n",
       "      <td>19.69</td>\n",
       "      <td>21.25</td>\n",
       "      <td>130.00</td>\n",
       "      <td>1203.0</td>\n",
       "      <td>0.10960</td>\n",
       "      <td>0</td>\n",
       "    </tr>\n",
       "    <tr>\n",
       "      <th>3</th>\n",
       "      <td>11.42</td>\n",
       "      <td>20.38</td>\n",
       "      <td>77.58</td>\n",
       "      <td>386.1</td>\n",
       "      <td>0.14250</td>\n",
       "      <td>0</td>\n",
       "    </tr>\n",
       "    <tr>\n",
       "      <th>4</th>\n",
       "      <td>20.29</td>\n",
       "      <td>14.34</td>\n",
       "      <td>135.10</td>\n",
       "      <td>1297.0</td>\n",
       "      <td>0.10030</td>\n",
       "      <td>0</td>\n",
       "    </tr>\n",
       "  </tbody>\n",
       "</table>\n",
       "</div>"
      ],
      "text/plain": [
       "   mean_radius  mean_texture  mean_perimeter  mean_area  mean_smoothness  \\\n",
       "0        17.99         10.38          122.80     1001.0          0.11840   \n",
       "1        20.57         17.77          132.90     1326.0          0.08474   \n",
       "2        19.69         21.25          130.00     1203.0          0.10960   \n",
       "3        11.42         20.38           77.58      386.1          0.14250   \n",
       "4        20.29         14.34          135.10     1297.0          0.10030   \n",
       "\n",
       "   diagnosis  \n",
       "0          0  \n",
       "1          0  \n",
       "2          0  \n",
       "3          0  \n",
       "4          0  "
      ]
     },
     "execution_count": 47,
     "metadata": {},
     "output_type": "execute_result"
    }
   ],
   "source": [
    "data = pd.read_csv('https://raw.githubusercontent.com/hfzhrahma/Kelas-Mahir/main/Breast_cancer_data.csv')\n",
    "data.head()"
   ]
  },
  {
   "cell_type": "markdown",
   "id": "f85056d1",
   "metadata": {},
   "source": [
    "Jika kita akan menghitung data numerik, maka ada dua cara, pertama kita ubah ke data categorical, atau dengan pendekatan model distribusi. Artinya kita melakukan fitting dara ke sebuah distribusi standar (misal: distribusi normal).\n",
    "\n",
    "$$p(x)=\\frac{1}{\\sigma\\sqrt{2\\pi}}e^{-\\frac{1}{2}(\\frac{x-\\mu}{\\sigma})^2}$$\n",
    "\n",
    "dimana $\\sigma$ adalah standar deviasi dan $\\mu$ adalah mean"
   ]
  },
  {
   "cell_type": "markdown",
   "id": "eafb9628",
   "metadata": {},
   "source": [
    "## Implementasi pada Python\n",
    "\n",
    "**Import Library**"
   ]
  },
  {
   "cell_type": "code",
   "execution_count": 48,
   "id": "c7d8cd56",
   "metadata": {},
   "outputs": [],
   "source": [
    "import pandas as pd\n",
    "import numpy as np"
   ]
  },
  {
   "cell_type": "markdown",
   "id": "5456c24e",
   "metadata": {},
   "source": [
    "**DataFrame Input**"
   ]
  },
  {
   "cell_type": "code",
   "execution_count": 49,
   "id": "62bd5044",
   "metadata": {},
   "outputs": [
    {
     "data": {
      "text/html": [
       "<div>\n",
       "<style scoped>\n",
       "    .dataframe tbody tr th:only-of-type {\n",
       "        vertical-align: middle;\n",
       "    }\n",
       "\n",
       "    .dataframe tbody tr th {\n",
       "        vertical-align: top;\n",
       "    }\n",
       "\n",
       "    .dataframe thead th {\n",
       "        text-align: right;\n",
       "    }\n",
       "</style>\n",
       "<table border=\"1\" class=\"dataframe\">\n",
       "  <thead>\n",
       "    <tr style=\"text-align: right;\">\n",
       "      <th></th>\n",
       "      <th>mean_radius</th>\n",
       "      <th>mean_texture</th>\n",
       "      <th>mean_perimeter</th>\n",
       "      <th>mean_area</th>\n",
       "      <th>mean_smoothness</th>\n",
       "      <th>diagnosis</th>\n",
       "    </tr>\n",
       "  </thead>\n",
       "  <tbody>\n",
       "    <tr>\n",
       "      <th>0</th>\n",
       "      <td>17.99</td>\n",
       "      <td>10.38</td>\n",
       "      <td>122.80</td>\n",
       "      <td>1001.0</td>\n",
       "      <td>0.11840</td>\n",
       "      <td>0</td>\n",
       "    </tr>\n",
       "    <tr>\n",
       "      <th>1</th>\n",
       "      <td>20.57</td>\n",
       "      <td>17.77</td>\n",
       "      <td>132.90</td>\n",
       "      <td>1326.0</td>\n",
       "      <td>0.08474</td>\n",
       "      <td>0</td>\n",
       "    </tr>\n",
       "    <tr>\n",
       "      <th>2</th>\n",
       "      <td>19.69</td>\n",
       "      <td>21.25</td>\n",
       "      <td>130.00</td>\n",
       "      <td>1203.0</td>\n",
       "      <td>0.10960</td>\n",
       "      <td>0</td>\n",
       "    </tr>\n",
       "    <tr>\n",
       "      <th>3</th>\n",
       "      <td>11.42</td>\n",
       "      <td>20.38</td>\n",
       "      <td>77.58</td>\n",
       "      <td>386.1</td>\n",
       "      <td>0.14250</td>\n",
       "      <td>0</td>\n",
       "    </tr>\n",
       "    <tr>\n",
       "      <th>4</th>\n",
       "      <td>20.29</td>\n",
       "      <td>14.34</td>\n",
       "      <td>135.10</td>\n",
       "      <td>1297.0</td>\n",
       "      <td>0.10030</td>\n",
       "      <td>0</td>\n",
       "    </tr>\n",
       "  </tbody>\n",
       "</table>\n",
       "</div>"
      ],
      "text/plain": [
       "   mean_radius  mean_texture  mean_perimeter  mean_area  mean_smoothness  \\\n",
       "0        17.99         10.38          122.80     1001.0          0.11840   \n",
       "1        20.57         17.77          132.90     1326.0          0.08474   \n",
       "2        19.69         21.25          130.00     1203.0          0.10960   \n",
       "3        11.42         20.38           77.58      386.1          0.14250   \n",
       "4        20.29         14.34          135.10     1297.0          0.10030   \n",
       "\n",
       "   diagnosis  \n",
       "0          0  \n",
       "1          0  \n",
       "2          0  \n",
       "3          0  \n",
       "4          0  "
      ]
     },
     "execution_count": 49,
     "metadata": {},
     "output_type": "execute_result"
    }
   ],
   "source": [
    "data = pd.read_csv('https://raw.githubusercontent.com/hfzhrahma/Kelas-Mahir/main/Breast_cancer_data.csv')\n",
    "data.head()"
   ]
  },
  {
   "cell_type": "markdown",
   "id": "e891a51d",
   "metadata": {},
   "source": [
    "**EDA for Distribution**"
   ]
  },
  {
   "cell_type": "code",
   "execution_count": 50,
   "id": "0e4e4a08",
   "metadata": {},
   "outputs": [
    {
     "data": {
      "text/html": [
       "<div>\n",
       "<style scoped>\n",
       "    .dataframe tbody tr th:only-of-type {\n",
       "        vertical-align: middle;\n",
       "    }\n",
       "\n",
       "    .dataframe tbody tr th {\n",
       "        vertical-align: top;\n",
       "    }\n",
       "\n",
       "    .dataframe thead th {\n",
       "        text-align: right;\n",
       "    }\n",
       "</style>\n",
       "<table border=\"1\" class=\"dataframe\">\n",
       "  <thead>\n",
       "    <tr style=\"text-align: right;\">\n",
       "      <th></th>\n",
       "      <th>mean_radius</th>\n",
       "      <th>mean_texture</th>\n",
       "      <th>mean_smoothness</th>\n",
       "      <th>diagnosis</th>\n",
       "    </tr>\n",
       "  </thead>\n",
       "  <tbody>\n",
       "    <tr>\n",
       "      <th>0</th>\n",
       "      <td>17.99</td>\n",
       "      <td>10.38</td>\n",
       "      <td>0.11840</td>\n",
       "      <td>0</td>\n",
       "    </tr>\n",
       "    <tr>\n",
       "      <th>1</th>\n",
       "      <td>20.57</td>\n",
       "      <td>17.77</td>\n",
       "      <td>0.08474</td>\n",
       "      <td>0</td>\n",
       "    </tr>\n",
       "    <tr>\n",
       "      <th>2</th>\n",
       "      <td>19.69</td>\n",
       "      <td>21.25</td>\n",
       "      <td>0.10960</td>\n",
       "      <td>0</td>\n",
       "    </tr>\n",
       "    <tr>\n",
       "      <th>3</th>\n",
       "      <td>11.42</td>\n",
       "      <td>20.38</td>\n",
       "      <td>0.14250</td>\n",
       "      <td>0</td>\n",
       "    </tr>\n",
       "    <tr>\n",
       "      <th>4</th>\n",
       "      <td>20.29</td>\n",
       "      <td>14.34</td>\n",
       "      <td>0.10030</td>\n",
       "      <td>0</td>\n",
       "    </tr>\n",
       "    <tr>\n",
       "      <th>5</th>\n",
       "      <td>12.45</td>\n",
       "      <td>15.70</td>\n",
       "      <td>0.12780</td>\n",
       "      <td>0</td>\n",
       "    </tr>\n",
       "    <tr>\n",
       "      <th>6</th>\n",
       "      <td>18.25</td>\n",
       "      <td>19.98</td>\n",
       "      <td>0.09463</td>\n",
       "      <td>0</td>\n",
       "    </tr>\n",
       "    <tr>\n",
       "      <th>7</th>\n",
       "      <td>13.71</td>\n",
       "      <td>20.83</td>\n",
       "      <td>0.11890</td>\n",
       "      <td>0</td>\n",
       "    </tr>\n",
       "    <tr>\n",
       "      <th>8</th>\n",
       "      <td>13.00</td>\n",
       "      <td>21.82</td>\n",
       "      <td>0.12730</td>\n",
       "      <td>0</td>\n",
       "    </tr>\n",
       "    <tr>\n",
       "      <th>9</th>\n",
       "      <td>12.46</td>\n",
       "      <td>24.04</td>\n",
       "      <td>0.11860</td>\n",
       "      <td>0</td>\n",
       "    </tr>\n",
       "  </tbody>\n",
       "</table>\n",
       "</div>"
      ],
      "text/plain": [
       "   mean_radius  mean_texture  mean_smoothness  diagnosis\n",
       "0        17.99         10.38          0.11840          0\n",
       "1        20.57         17.77          0.08474          0\n",
       "2        19.69         21.25          0.10960          0\n",
       "3        11.42         20.38          0.14250          0\n",
       "4        20.29         14.34          0.10030          0\n",
       "5        12.45         15.70          0.12780          0\n",
       "6        18.25         19.98          0.09463          0\n",
       "7        13.71         20.83          0.11890          0\n",
       "8        13.00         21.82          0.12730          0\n",
       "9        12.46         24.04          0.11860          0"
      ]
     },
     "execution_count": 50,
     "metadata": {},
     "output_type": "execute_result"
    }
   ],
   "source": [
    "data = data[[\"mean_radius\", \"mean_texture\", \"mean_smoothness\", \"diagnosis\"]]\n",
    "data.head(10)"
   ]
  },
  {
   "cell_type": "code",
   "execution_count": 51,
   "id": "428f2d60",
   "metadata": {},
   "outputs": [
    {
     "data": {
      "image/png": "[encoded data removed]",
      "text/plain": [
       "<Figure size 1296x432 with 3 Axes>"
      ]
     },
     "metadata": {},
     "output_type": "display_data"
    }
   ],
   "source": [
    "fig, axes = plt.subplots(1, 3, figsize=(18, 6), sharey=True)\n",
    "sns.histplot(data, ax=axes[0], x=\"mean_radius\", kde=True, color='r')\n",
    "sns.histplot(data, ax=axes[1], x=\"mean_smoothness\", kde=True, color='b')\n",
    "sns.histplot(data, ax=axes[2], x=\"mean_texture\", kde=True, color='m')\n",
    "plt.show()"
   ]
  },
  {
   "cell_type": "code",
   "execution_count": 52,
   "id": "5ad1fd77",
   "metadata": {},
   "outputs": [],
   "source": [
    "def prob_prior(df,Y):\n",
    "    label_kelas=sorted(list(df[Y].unique()))\n",
    "    prior=[]\n",
    "    for i in label_kelas:\n",
    "        prior.append(len(df[df[Y]==i])/len(df))\n",
    "    return prior"
   ]
  },
  {
   "cell_type": "code",
   "execution_count": 53,
   "id": "0e49cc24",
   "metadata": {},
   "outputs": [],
   "source": [
    "def likelihood_gaussian(df, nama_var, nilai_var, Y, label):\n",
    "    feat = list(df.columns)\n",
    "    df=df[df[Y]==label]\n",
    "    mean, std = df[nama_var].mean(), df[nama_var].std()\n",
    "    p_x_dgsyrt_y = (1/(np.sqrt(2*np.pi)*std)) * np.exp(-((nilai_var-mean)**2/(2 * std**2)))\n",
    "    return p_x_dgsyrt_y"
   ]
  },
  {
   "cell_type": "code",
   "execution_count": 58,
   "id": "2d200868",
   "metadata": {},
   "outputs": [],
   "source": [
    "def naive_bayes_gaussian(df, X, Y):\n",
    "    # mengambil nama kolom\n",
    "    nama_kolom = list(df.columns)[:-1]\n",
    "\n",
    "    # menghitung prob prior\n",
    "    prior = prob_prior(df, Y)\n",
    "\n",
    "    Y_pred = []\n",
    "    # looping pada setiap baris data\n",
    "    for x in X:\n",
    "        # menghitung likelihood\n",
    "        labels = sorted(list(df[Y].unique()))\n",
    "        likelihood = [1]*len(labels)\n",
    "        for j in range(len(labels)):\n",
    "            for i in range(len(nama_kolom)):\n",
    "                likelihood[j] *= likelihood_gaussian(df, nama_kolom[i], x[i], Y, labels[j])\n",
    "\n",
    "        # menghitung posterior probability\n",
    "        post_prob = [1]*len(labels)\n",
    "        for j in range(len(labels)):\n",
    "            post_prob[j] = likelihood[j] * prior[j]\n",
    "\n",
    "        Y_pred.append(np.argmax(post_prob))\n",
    "\n",
    "    return np.array(Y_pred)"
   ]
  },
  {
   "cell_type": "code",
   "execution_count": 59,
   "id": "8e052294",
   "metadata": {},
   "outputs": [
    {
     "name": "stdout",
     "output_type": "stream",
     "text": [
      "[[36  4]\n",
      " [ 0 74]]\n",
      "0.9736842105263158\n"
     ]
    }
   ],
   "source": [
    "from sklearn.model_selection import train_test_split\n",
    "train, test = train_test_split(data, test_size=.2, random_state=41)\n",
    "\n",
    "X_test = test.iloc[:,:-1].values\n",
    "Y_test = test.iloc[:,-1].values\n",
    "Y_pred = naive_bayes_gaussian(train, X=X_test, Y=\"diagnosis\")\n",
    "\n",
    "from sklearn.metrics import confusion_matrix, f1_score\n",
    "print(confusion_matrix(Y_test, Y_pred))\n",
    "print(f1_score(Y_test, Y_pred))"
   ]
  },
  {
   "cell_type": "code",
   "execution_count": 62,
   "id": "1d8c9bde",
   "metadata": {},
   "outputs": [
    {
     "name": "stdout",
     "output_type": "stream",
     "text": [
      "0.9649122807017544\n"
     ]
    }
   ],
   "source": [
    "from sklearn.metrics import accuracy_score\n",
    "print(accuracy_score(Y_test, Y_pred))"
   ]
  },
  {
   "cell_type": "code",
   "execution_count": null,
   "id": "d111d2d7",
   "metadata": {},
   "outputs": [],
   "source": []
  }
 ],
 "metadata": {
  "kernelspec": {
   "display_name": "Python 3",
   "language": "python",
   "name": "python3"
  },
  "language_info": {
   "codemirror_mode": {
    "name": "ipython",
    "version": 3
   },
   "file_extension": ".py",
   "mimetype": "text/x-python",
   "name": "python",
   "nbconvert_exporter": "python",
   "pygments_lexer": "ipython3",
   "version": "3.8.8"
  }
 },
 "nbformat": 4,
 "nbformat_minor": 5
}
